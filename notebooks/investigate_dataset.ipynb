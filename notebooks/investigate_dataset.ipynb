{
 "cells": [
  {
   "cell_type": "code",
   "execution_count": 8,
   "id": "0afb03ce",
   "metadata": {},
   "outputs": [],
   "source": [
    "import pandas as pd\n",
    "import numpy as np"
   ]
  },
  {
   "cell_type": "code",
   "execution_count": 54,
   "id": "75c67389",
   "metadata": {},
   "outputs": [],
   "source": [
    "binary_score_converter = {\"Yes\": 1,\n",
    "                          \"No\": 0}"
   ]
  },
  {
   "cell_type": "code",
   "execution_count": 2,
   "id": "b4290aa3",
   "metadata": {},
   "outputs": [
    {
     "name": "stderr",
     "output_type": "stream",
     "text": [
      "<>:1: SyntaxWarning: invalid escape sequence '\\c'\n",
      "<>:1: SyntaxWarning: invalid escape sequence '\\c'\n",
      "C:\\Users\\pkrys\\AppData\\Local\\Temp\\ipykernel_12180\\2953608334.py:1: SyntaxWarning: invalid escape sequence '\\c'\n",
      "  data = pd.read_csv(\"..\\csv_dataset\\BindingDB_All_clean_parameters_categorical_FINALm.csv\")\n"
     ]
    }
   ],
   "source": [
    "data = pd.read_csv(\"..\\csv_dataset\\BindingDB_All_clean_parameters_categorical_FINALm.csv\")"
   ]
  },
  {
   "cell_type": "code",
   "execution_count": 3,
   "id": "63c2cf28",
   "metadata": {},
   "outputs": [
    {
     "data": {
      "text/html": [
       "<div>\n",
       "<style scoped>\n",
       "    .dataframe tbody tr th:only-of-type {\n",
       "        vertical-align: middle;\n",
       "    }\n",
       "\n",
       "    .dataframe tbody tr th {\n",
       "        vertical-align: top;\n",
       "    }\n",
       "\n",
       "    .dataframe thead th {\n",
       "        text-align: right;\n",
       "    }\n",
       "</style>\n",
       "<table border=\"1\" class=\"dataframe\">\n",
       "  <thead>\n",
       "    <tr style=\"text-align: right;\">\n",
       "      <th></th>\n",
       "      <th>Ligand SMILES</th>\n",
       "      <th>BindingDB Target Chain Sequence</th>\n",
       "      <th>IC50_nM_mean</th>\n",
       "      <th>Is_Above_Median</th>\n",
       "      <th>is_over_500</th>\n",
       "    </tr>\n",
       "  </thead>\n",
       "  <tbody>\n",
       "    <tr>\n",
       "      <th>0</th>\n",
       "      <td>B.CP(c1ccccc1)c1ccc(O)cc1</td>\n",
       "      <td>MDIKNSPSSLNSPSSYNCSQSILPLEHGSIYIPSSYVDSHHEYPAM...</td>\n",
       "      <td>2500.0</td>\n",
       "      <td>Yes</td>\n",
       "      <td>Yes</td>\n",
       "    </tr>\n",
       "    <tr>\n",
       "      <th>1</th>\n",
       "      <td>B.CP(c1ccccc1)c1ccc(O)cc1</td>\n",
       "      <td>MTMTLHTKASGMALLHQIQGNELEPLNRPQLKIPLERPLGEVYLDS...</td>\n",
       "      <td>9800.0</td>\n",
       "      <td>Yes</td>\n",
       "      <td>Yes</td>\n",
       "    </tr>\n",
       "    <tr>\n",
       "      <th>2</th>\n",
       "      <td>B.Oc1ccc(cc1)P(c1ccccc1)c1ccccc1</td>\n",
       "      <td>MDIKNSPSSLNSPSSYNCSQSILPLEHGSIYIPSSYVDSHHEYPAM...</td>\n",
       "      <td>2000.0</td>\n",
       "      <td>Yes</td>\n",
       "      <td>Yes</td>\n",
       "    </tr>\n",
       "    <tr>\n",
       "      <th>3</th>\n",
       "      <td>B.Oc1ccc(cc1)P(c1ccccc1)c1ccccc1</td>\n",
       "      <td>MTMTLHTKASGMALLHQIQGNELEPLNRPQLKIPLERPLGEVYLDS...</td>\n",
       "      <td>12000.0</td>\n",
       "      <td>Yes</td>\n",
       "      <td>Yes</td>\n",
       "    </tr>\n",
       "    <tr>\n",
       "      <th>4</th>\n",
       "      <td>BB(B)B(B)B(B(B)B)B1CC1CNC(=O)[C@@H]1C[C@@H](F)...</td>\n",
       "      <td>MHSWERLAVLVLLGAAACAAPPRGRILGGREAEAHARPYMASVQLN...</td>\n",
       "      <td>1000.0</td>\n",
       "      <td>Yes</td>\n",
       "      <td>Yes</td>\n",
       "    </tr>\n",
       "    <tr>\n",
       "      <th>...</th>\n",
       "      <td>...</td>\n",
       "      <td>...</td>\n",
       "      <td>...</td>\n",
       "      <td>...</td>\n",
       "      <td>...</td>\n",
       "    </tr>\n",
       "    <tr>\n",
       "      <th>1549029</th>\n",
       "      <td>c1sc(nc1-c1cnc(nc1)-c1ccccc1)-c1cccnc1</td>\n",
       "      <td>MPNYKLTYFNMRGRAEIIRYIFAYLDIQYEDHRIEQADWPEIKSTL...</td>\n",
       "      <td>575.0</td>\n",
       "      <td>No</td>\n",
       "      <td>Yes</td>\n",
       "    </tr>\n",
       "    <tr>\n",
       "      <th>1549030</th>\n",
       "      <td>c1sc(nc1-c1nc2ccccc2s1)-c1ncccn1</td>\n",
       "      <td>MVLEMLNPIHYNITSIVPEAMPAATMPVLLLTGLFLLVWNYEGTSS...</td>\n",
       "      <td>1000.0</td>\n",
       "      <td>Yes</td>\n",
       "      <td>Yes</td>\n",
       "    </tr>\n",
       "    <tr>\n",
       "      <th>1549031</th>\n",
       "      <td>c1sc2ncn3cnnc3c2c1-c1ccccc1</td>\n",
       "      <td>MGNAAAAKKGSEQESVKEFLAKAKEDFLKKWESPAQNTAHLDQFER...</td>\n",
       "      <td>19010.0</td>\n",
       "      <td>Yes</td>\n",
       "      <td>Yes</td>\n",
       "    </tr>\n",
       "    <tr>\n",
       "      <th>1549032</th>\n",
       "      <td>c1scc2c1ncc1cnccc21</td>\n",
       "      <td>MSGLGDSSSDPANPDSHKRKGSPCDTLASSTEKRRREQENKYLEEL...</td>\n",
       "      <td>15794.0</td>\n",
       "      <td>Yes</td>\n",
       "      <td>Yes</td>\n",
       "    </tr>\n",
       "    <tr>\n",
       "      <th>1549033</th>\n",
       "      <td>c1scc2c1ncc1cnccc21</td>\n",
       "      <td>MSGLGENLDPLASDSRKRKLPCDTPGQGLTCSGEKRRREQESKYIE...</td>\n",
       "      <td>4510.0</td>\n",
       "      <td>Yes</td>\n",
       "      <td>Yes</td>\n",
       "    </tr>\n",
       "  </tbody>\n",
       "</table>\n",
       "<p>1549034 rows × 5 columns</p>\n",
       "</div>"
      ],
      "text/plain": [
       "                                             Ligand SMILES  \\\n",
       "0                                B.CP(c1ccccc1)c1ccc(O)cc1   \n",
       "1                                B.CP(c1ccccc1)c1ccc(O)cc1   \n",
       "2                         B.Oc1ccc(cc1)P(c1ccccc1)c1ccccc1   \n",
       "3                         B.Oc1ccc(cc1)P(c1ccccc1)c1ccccc1   \n",
       "4        BB(B)B(B)B(B(B)B)B1CC1CNC(=O)[C@@H]1C[C@@H](F)...   \n",
       "...                                                    ...   \n",
       "1549029             c1sc(nc1-c1cnc(nc1)-c1ccccc1)-c1cccnc1   \n",
       "1549030                   c1sc(nc1-c1nc2ccccc2s1)-c1ncccn1   \n",
       "1549031                        c1sc2ncn3cnnc3c2c1-c1ccccc1   \n",
       "1549032                                c1scc2c1ncc1cnccc21   \n",
       "1549033                                c1scc2c1ncc1cnccc21   \n",
       "\n",
       "                           BindingDB Target Chain Sequence  IC50_nM_mean  \\\n",
       "0        MDIKNSPSSLNSPSSYNCSQSILPLEHGSIYIPSSYVDSHHEYPAM...        2500.0   \n",
       "1        MTMTLHTKASGMALLHQIQGNELEPLNRPQLKIPLERPLGEVYLDS...        9800.0   \n",
       "2        MDIKNSPSSLNSPSSYNCSQSILPLEHGSIYIPSSYVDSHHEYPAM...        2000.0   \n",
       "3        MTMTLHTKASGMALLHQIQGNELEPLNRPQLKIPLERPLGEVYLDS...       12000.0   \n",
       "4        MHSWERLAVLVLLGAAACAAPPRGRILGGREAEAHARPYMASVQLN...        1000.0   \n",
       "...                                                    ...           ...   \n",
       "1549029  MPNYKLTYFNMRGRAEIIRYIFAYLDIQYEDHRIEQADWPEIKSTL...         575.0   \n",
       "1549030  MVLEMLNPIHYNITSIVPEAMPAATMPVLLLTGLFLLVWNYEGTSS...        1000.0   \n",
       "1549031  MGNAAAAKKGSEQESVKEFLAKAKEDFLKKWESPAQNTAHLDQFER...       19010.0   \n",
       "1549032  MSGLGDSSSDPANPDSHKRKGSPCDTLASSTEKRRREQENKYLEEL...       15794.0   \n",
       "1549033  MSGLGENLDPLASDSRKRKLPCDTPGQGLTCSGEKRRREQESKYIE...        4510.0   \n",
       "\n",
       "        Is_Above_Median is_over_500  \n",
       "0                   Yes         Yes  \n",
       "1                   Yes         Yes  \n",
       "2                   Yes         Yes  \n",
       "3                   Yes         Yes  \n",
       "4                   Yes         Yes  \n",
       "...                 ...         ...  \n",
       "1549029              No         Yes  \n",
       "1549030             Yes         Yes  \n",
       "1549031             Yes         Yes  \n",
       "1549032             Yes         Yes  \n",
       "1549033             Yes         Yes  \n",
       "\n",
       "[1549034 rows x 5 columns]"
      ]
     },
     "execution_count": 3,
     "metadata": {},
     "output_type": "execute_result"
    }
   ],
   "source": [
    "data"
   ]
  },
  {
   "cell_type": "code",
   "execution_count": 4,
   "id": "2c779117",
   "metadata": {},
   "outputs": [],
   "source": [
    "data[\"Ligand_len\"] = data[\"Ligand SMILES\"].apply(lambda x: len(x))\n",
    "data[\"Target_Chain_len\"] = data[\"BindingDB Target Chain Sequence\"].apply(lambda x: len(x))"
   ]
  },
  {
   "cell_type": "code",
   "execution_count": 5,
   "id": "2ccc0250",
   "metadata": {},
   "outputs": [
    {
     "data": {
      "text/plain": [
       "<Axes: >"
      ]
     },
     "execution_count": 5,
     "metadata": {},
     "output_type": "execute_result"
    },
    {
     "data": {
      "image/png": "[encoded data removed]",
      "text/plain": [
       "<Figure size 640x480 with 1 Axes>"
      ]
     },
     "metadata": {},
     "output_type": "display_data"
    }
   ],
   "source": [
    "data.Ligand_len.hist(bins=1000)"
   ]
  },
  {
   "cell_type": "code",
   "execution_count": 6,
   "id": "20195a48",
   "metadata": {},
   "outputs": [
    {
     "data": {
      "text/html": [
       "<div>\n",
       "<style scoped>\n",
       "    .dataframe tbody tr th:only-of-type {\n",
       "        vertical-align: middle;\n",
       "    }\n",
       "\n",
       "    .dataframe tbody tr th {\n",
       "        vertical-align: top;\n",
       "    }\n",
       "\n",
       "    .dataframe thead th {\n",
       "        text-align: right;\n",
       "    }\n",
       "</style>\n",
       "<table border=\"1\" class=\"dataframe\">\n",
       "  <thead>\n",
       "    <tr style=\"text-align: right;\">\n",
       "      <th></th>\n",
       "      <th>Ligand SMILES</th>\n",
       "      <th>BindingDB Target Chain Sequence</th>\n",
       "      <th>IC50_nM_mean</th>\n",
       "      <th>Is_Above_Median</th>\n",
       "      <th>is_over_500</th>\n",
       "      <th>Ligand_len</th>\n",
       "      <th>Target_Chain_len</th>\n",
       "    </tr>\n",
       "  </thead>\n",
       "  <tbody>\n",
       "    <tr>\n",
       "      <th>0</th>\n",
       "      <td>B.CP(c1ccccc1)c1ccc(O)cc1</td>\n",
       "      <td>MDIKNSPSSLNSPSSYNCSQSILPLEHGSIYIPSSYVDSHHEYPAM...</td>\n",
       "      <td>2500.0</td>\n",
       "      <td>Yes</td>\n",
       "      <td>Yes</td>\n",
       "      <td>25</td>\n",
       "      <td>530</td>\n",
       "    </tr>\n",
       "    <tr>\n",
       "      <th>1</th>\n",
       "      <td>B.CP(c1ccccc1)c1ccc(O)cc1</td>\n",
       "      <td>MTMTLHTKASGMALLHQIQGNELEPLNRPQLKIPLERPLGEVYLDS...</td>\n",
       "      <td>9800.0</td>\n",
       "      <td>Yes</td>\n",
       "      <td>Yes</td>\n",
       "      <td>25</td>\n",
       "      <td>595</td>\n",
       "    </tr>\n",
       "    <tr>\n",
       "      <th>2</th>\n",
       "      <td>B.Oc1ccc(cc1)P(c1ccccc1)c1ccccc1</td>\n",
       "      <td>MDIKNSPSSLNSPSSYNCSQSILPLEHGSIYIPSSYVDSHHEYPAM...</td>\n",
       "      <td>2000.0</td>\n",
       "      <td>Yes</td>\n",
       "      <td>Yes</td>\n",
       "      <td>32</td>\n",
       "      <td>530</td>\n",
       "    </tr>\n",
       "    <tr>\n",
       "      <th>3</th>\n",
       "      <td>B.Oc1ccc(cc1)P(c1ccccc1)c1ccccc1</td>\n",
       "      <td>MTMTLHTKASGMALLHQIQGNELEPLNRPQLKIPLERPLGEVYLDS...</td>\n",
       "      <td>12000.0</td>\n",
       "      <td>Yes</td>\n",
       "      <td>Yes</td>\n",
       "      <td>32</td>\n",
       "      <td>595</td>\n",
       "    </tr>\n",
       "    <tr>\n",
       "      <th>4</th>\n",
       "      <td>BB(B)B(B)B(B(B)B)B1CC1CNC(=O)[C@@H]1C[C@@H](F)...</td>\n",
       "      <td>MHSWERLAVLVLLGAAACAAPPRGRILGGREAEAHARPYMASVQLN...</td>\n",
       "      <td>1000.0</td>\n",
       "      <td>Yes</td>\n",
       "      <td>Yes</td>\n",
       "      <td>90</td>\n",
       "      <td>253</td>\n",
       "    </tr>\n",
       "    <tr>\n",
       "      <th>...</th>\n",
       "      <td>...</td>\n",
       "      <td>...</td>\n",
       "      <td>...</td>\n",
       "      <td>...</td>\n",
       "      <td>...</td>\n",
       "      <td>...</td>\n",
       "      <td>...</td>\n",
       "    </tr>\n",
       "    <tr>\n",
       "      <th>1549029</th>\n",
       "      <td>c1sc(nc1-c1cnc(nc1)-c1ccccc1)-c1cccnc1</td>\n",
       "      <td>MPNYKLTYFNMRGRAEIIRYIFAYLDIQYEDHRIEQADWPEIKSTL...</td>\n",
       "      <td>575.0</td>\n",
       "      <td>No</td>\n",
       "      <td>Yes</td>\n",
       "      <td>38</td>\n",
       "      <td>199</td>\n",
       "    </tr>\n",
       "    <tr>\n",
       "      <th>1549030</th>\n",
       "      <td>c1sc(nc1-c1nc2ccccc2s1)-c1ncccn1</td>\n",
       "      <td>MVLEMLNPIHYNITSIVPEAMPAATMPVLLLTGLFLLVWNYEGTSS...</td>\n",
       "      <td>1000.0</td>\n",
       "      <td>Yes</td>\n",
       "      <td>Yes</td>\n",
       "      <td>32</td>\n",
       "      <td>503</td>\n",
       "    </tr>\n",
       "    <tr>\n",
       "      <th>1549031</th>\n",
       "      <td>c1sc2ncn3cnnc3c2c1-c1ccccc1</td>\n",
       "      <td>MGNAAAAKKGSEQESVKEFLAKAKEDFLKKWESPAQNTAHLDQFER...</td>\n",
       "      <td>19010.0</td>\n",
       "      <td>Yes</td>\n",
       "      <td>Yes</td>\n",
       "      <td>27</td>\n",
       "      <td>351</td>\n",
       "    </tr>\n",
       "    <tr>\n",
       "      <th>1549032</th>\n",
       "      <td>c1scc2c1ncc1cnccc21</td>\n",
       "      <td>MSGLGDSSSDPANPDSHKRKGSPCDTLASSTEKRRREQENKYLEEL...</td>\n",
       "      <td>15794.0</td>\n",
       "      <td>Yes</td>\n",
       "      <td>Yes</td>\n",
       "      <td>19</td>\n",
       "      <td>1441</td>\n",
       "    </tr>\n",
       "    <tr>\n",
       "      <th>1549033</th>\n",
       "      <td>c1scc2c1ncc1cnccc21</td>\n",
       "      <td>MSGLGENLDPLASDSRKRKLPCDTPGQGLTCSGEKRRREQESKYIE...</td>\n",
       "      <td>4510.0</td>\n",
       "      <td>Yes</td>\n",
       "      <td>Yes</td>\n",
       "      <td>19</td>\n",
       "      <td>1424</td>\n",
       "    </tr>\n",
       "  </tbody>\n",
       "</table>\n",
       "<p>1549034 rows × 7 columns</p>\n",
       "</div>"
      ],
      "text/plain": [
       "                                             Ligand SMILES  \\\n",
       "0                                B.CP(c1ccccc1)c1ccc(O)cc1   \n",
       "1                                B.CP(c1ccccc1)c1ccc(O)cc1   \n",
       "2                         B.Oc1ccc(cc1)P(c1ccccc1)c1ccccc1   \n",
       "3                         B.Oc1ccc(cc1)P(c1ccccc1)c1ccccc1   \n",
       "4        BB(B)B(B)B(B(B)B)B1CC1CNC(=O)[C@@H]1C[C@@H](F)...   \n",
       "...                                                    ...   \n",
       "1549029             c1sc(nc1-c1cnc(nc1)-c1ccccc1)-c1cccnc1   \n",
       "1549030                   c1sc(nc1-c1nc2ccccc2s1)-c1ncccn1   \n",
       "1549031                        c1sc2ncn3cnnc3c2c1-c1ccccc1   \n",
       "1549032                                c1scc2c1ncc1cnccc21   \n",
       "1549033                                c1scc2c1ncc1cnccc21   \n",
       "\n",
       "                           BindingDB Target Chain Sequence  IC50_nM_mean  \\\n",
       "0        MDIKNSPSSLNSPSSYNCSQSILPLEHGSIYIPSSYVDSHHEYPAM...        2500.0   \n",
       "1        MTMTLHTKASGMALLHQIQGNELEPLNRPQLKIPLERPLGEVYLDS...        9800.0   \n",
       "2        MDIKNSPSSLNSPSSYNCSQSILPLEHGSIYIPSSYVDSHHEYPAM...        2000.0   \n",
       "3        MTMTLHTKASGMALLHQIQGNELEPLNRPQLKIPLERPLGEVYLDS...       12000.0   \n",
       "4        MHSWERLAVLVLLGAAACAAPPRGRILGGREAEAHARPYMASVQLN...        1000.0   \n",
       "...                                                    ...           ...   \n",
       "1549029  MPNYKLTYFNMRGRAEIIRYIFAYLDIQYEDHRIEQADWPEIKSTL...         575.0   \n",
       "1549030  MVLEMLNPIHYNITSIVPEAMPAATMPVLLLTGLFLLVWNYEGTSS...        1000.0   \n",
       "1549031  MGNAAAAKKGSEQESVKEFLAKAKEDFLKKWESPAQNTAHLDQFER...       19010.0   \n",
       "1549032  MSGLGDSSSDPANPDSHKRKGSPCDTLASSTEKRRREQENKYLEEL...       15794.0   \n",
       "1549033  MSGLGENLDPLASDSRKRKLPCDTPGQGLTCSGEKRRREQESKYIE...        4510.0   \n",
       "\n",
       "        Is_Above_Median is_over_500  Ligand_len  Target_Chain_len  \n",
       "0                   Yes         Yes          25               530  \n",
       "1                   Yes         Yes          25               595  \n",
       "2                   Yes         Yes          32               530  \n",
       "3                   Yes         Yes          32               595  \n",
       "4                   Yes         Yes          90               253  \n",
       "...                 ...         ...         ...               ...  \n",
       "1549029              No         Yes          38               199  \n",
       "1549030             Yes         Yes          32               503  \n",
       "1549031             Yes         Yes          27               351  \n",
       "1549032             Yes         Yes          19              1441  \n",
       "1549033             Yes         Yes          19              1424  \n",
       "\n",
       "[1549034 rows x 7 columns]"
      ]
     },
     "execution_count": 6,
     "metadata": {},
     "output_type": "execute_result"
    }
   ],
   "source": [
    "data"
   ]
  },
  {
   "cell_type": "code",
   "execution_count": 36,
   "id": "66eff1e8",
   "metadata": {},
   "outputs": [],
   "source": [
    "filtered_data = data[data.Target_Chain_len < 2048]"
   ]
  },
  {
   "cell_type": "code",
   "execution_count": 37,
   "id": "2476868c",
   "metadata": {},
   "outputs": [
    {
     "data": {
      "text/html": [
       "<div>\n",
       "<style scoped>\n",
       "    .dataframe tbody tr th:only-of-type {\n",
       "        vertical-align: middle;\n",
       "    }\n",
       "\n",
       "    .dataframe tbody tr th {\n",
       "        vertical-align: top;\n",
       "    }\n",
       "\n",
       "    .dataframe thead th {\n",
       "        text-align: right;\n",
       "    }\n",
       "</style>\n",
       "<table border=\"1\" class=\"dataframe\">\n",
       "  <thead>\n",
       "    <tr style=\"text-align: right;\">\n",
       "      <th></th>\n",
       "      <th>Ligand SMILES</th>\n",
       "      <th>BindingDB Target Chain Sequence</th>\n",
       "      <th>IC50_nM_mean</th>\n",
       "      <th>Is_Above_Median</th>\n",
       "      <th>is_over_500</th>\n",
       "      <th>Ligand_len</th>\n",
       "      <th>Target_Chain_len</th>\n",
       "    </tr>\n",
       "  </thead>\n",
       "  <tbody>\n",
       "    <tr>\n",
       "      <th>0</th>\n",
       "      <td>B.CP(c1ccccc1)c1ccc(O)cc1</td>\n",
       "      <td>MDIKNSPSSLNSPSSYNCSQSILPLEHGSIYIPSSYVDSHHEYPAM...</td>\n",
       "      <td>2500.0</td>\n",
       "      <td>Yes</td>\n",
       "      <td>Yes</td>\n",
       "      <td>25</td>\n",
       "      <td>530</td>\n",
       "    </tr>\n",
       "    <tr>\n",
       "      <th>1</th>\n",
       "      <td>B.CP(c1ccccc1)c1ccc(O)cc1</td>\n",
       "      <td>MTMTLHTKASGMALLHQIQGNELEPLNRPQLKIPLERPLGEVYLDS...</td>\n",
       "      <td>9800.0</td>\n",
       "      <td>Yes</td>\n",
       "      <td>Yes</td>\n",
       "      <td>25</td>\n",
       "      <td>595</td>\n",
       "    </tr>\n",
       "    <tr>\n",
       "      <th>2</th>\n",
       "      <td>B.Oc1ccc(cc1)P(c1ccccc1)c1ccccc1</td>\n",
       "      <td>MDIKNSPSSLNSPSSYNCSQSILPLEHGSIYIPSSYVDSHHEYPAM...</td>\n",
       "      <td>2000.0</td>\n",
       "      <td>Yes</td>\n",
       "      <td>Yes</td>\n",
       "      <td>32</td>\n",
       "      <td>530</td>\n",
       "    </tr>\n",
       "    <tr>\n",
       "      <th>3</th>\n",
       "      <td>B.Oc1ccc(cc1)P(c1ccccc1)c1ccccc1</td>\n",
       "      <td>MTMTLHTKASGMALLHQIQGNELEPLNRPQLKIPLERPLGEVYLDS...</td>\n",
       "      <td>12000.0</td>\n",
       "      <td>Yes</td>\n",
       "      <td>Yes</td>\n",
       "      <td>32</td>\n",
       "      <td>595</td>\n",
       "    </tr>\n",
       "    <tr>\n",
       "      <th>4</th>\n",
       "      <td>BB(B)B(B)B(B(B)B)B1CC1CNC(=O)[C@@H]1C[C@@H](F)...</td>\n",
       "      <td>MHSWERLAVLVLLGAAACAAPPRGRILGGREAEAHARPYMASVQLN...</td>\n",
       "      <td>1000.0</td>\n",
       "      <td>Yes</td>\n",
       "      <td>Yes</td>\n",
       "      <td>90</td>\n",
       "      <td>253</td>\n",
       "    </tr>\n",
       "    <tr>\n",
       "      <th>...</th>\n",
       "      <td>...</td>\n",
       "      <td>...</td>\n",
       "      <td>...</td>\n",
       "      <td>...</td>\n",
       "      <td>...</td>\n",
       "      <td>...</td>\n",
       "      <td>...</td>\n",
       "    </tr>\n",
       "    <tr>\n",
       "      <th>1549029</th>\n",
       "      <td>c1sc(nc1-c1cnc(nc1)-c1ccccc1)-c1cccnc1</td>\n",
       "      <td>MPNYKLTYFNMRGRAEIIRYIFAYLDIQYEDHRIEQADWPEIKSTL...</td>\n",
       "      <td>575.0</td>\n",
       "      <td>No</td>\n",
       "      <td>Yes</td>\n",
       "      <td>38</td>\n",
       "      <td>199</td>\n",
       "    </tr>\n",
       "    <tr>\n",
       "      <th>1549030</th>\n",
       "      <td>c1sc(nc1-c1nc2ccccc2s1)-c1ncccn1</td>\n",
       "      <td>MVLEMLNPIHYNITSIVPEAMPAATMPVLLLTGLFLLVWNYEGTSS...</td>\n",
       "      <td>1000.0</td>\n",
       "      <td>Yes</td>\n",
       "      <td>Yes</td>\n",
       "      <td>32</td>\n",
       "      <td>503</td>\n",
       "    </tr>\n",
       "    <tr>\n",
       "      <th>1549031</th>\n",
       "      <td>c1sc2ncn3cnnc3c2c1-c1ccccc1</td>\n",
       "      <td>MGNAAAAKKGSEQESVKEFLAKAKEDFLKKWESPAQNTAHLDQFER...</td>\n",
       "      <td>19010.0</td>\n",
       "      <td>Yes</td>\n",
       "      <td>Yes</td>\n",
       "      <td>27</td>\n",
       "      <td>351</td>\n",
       "    </tr>\n",
       "    <tr>\n",
       "      <th>1549032</th>\n",
       "      <td>c1scc2c1ncc1cnccc21</td>\n",
       "      <td>MSGLGDSSSDPANPDSHKRKGSPCDTLASSTEKRRREQENKYLEEL...</td>\n",
       "      <td>15794.0</td>\n",
       "      <td>Yes</td>\n",
       "      <td>Yes</td>\n",
       "      <td>19</td>\n",
       "      <td>1441</td>\n",
       "    </tr>\n",
       "    <tr>\n",
       "      <th>1549033</th>\n",
       "      <td>c1scc2c1ncc1cnccc21</td>\n",
       "      <td>MSGLGENLDPLASDSRKRKLPCDTPGQGLTCSGEKRRREQESKYIE...</td>\n",
       "      <td>4510.0</td>\n",
       "      <td>Yes</td>\n",
       "      <td>Yes</td>\n",
       "      <td>19</td>\n",
       "      <td>1424</td>\n",
       "    </tr>\n",
       "  </tbody>\n",
       "</table>\n",
       "<p>1504704 rows × 7 columns</p>\n",
       "</div>"
      ],
      "text/plain": [
       "                                             Ligand SMILES  \\\n",
       "0                                B.CP(c1ccccc1)c1ccc(O)cc1   \n",
       "1                                B.CP(c1ccccc1)c1ccc(O)cc1   \n",
       "2                         B.Oc1ccc(cc1)P(c1ccccc1)c1ccccc1   \n",
       "3                         B.Oc1ccc(cc1)P(c1ccccc1)c1ccccc1   \n",
       "4        BB(B)B(B)B(B(B)B)B1CC1CNC(=O)[C@@H]1C[C@@H](F)...   \n",
       "...                                                    ...   \n",
       "1549029             c1sc(nc1-c1cnc(nc1)-c1ccccc1)-c1cccnc1   \n",
       "1549030                   c1sc(nc1-c1nc2ccccc2s1)-c1ncccn1   \n",
       "1549031                        c1sc2ncn3cnnc3c2c1-c1ccccc1   \n",
       "1549032                                c1scc2c1ncc1cnccc21   \n",
       "1549033                                c1scc2c1ncc1cnccc21   \n",
       "\n",
       "                           BindingDB Target Chain Sequence  IC50_nM_mean  \\\n",
       "0        MDIKNSPSSLNSPSSYNCSQSILPLEHGSIYIPSSYVDSHHEYPAM...        2500.0   \n",
       "1        MTMTLHTKASGMALLHQIQGNELEPLNRPQLKIPLERPLGEVYLDS...        9800.0   \n",
       "2        MDIKNSPSSLNSPSSYNCSQSILPLEHGSIYIPSSYVDSHHEYPAM...        2000.0   \n",
       "3        MTMTLHTKASGMALLHQIQGNELEPLNRPQLKIPLERPLGEVYLDS...       12000.0   \n",
       "4        MHSWERLAVLVLLGAAACAAPPRGRILGGREAEAHARPYMASVQLN...        1000.0   \n",
       "...                                                    ...           ...   \n",
       "1549029  MPNYKLTYFNMRGRAEIIRYIFAYLDIQYEDHRIEQADWPEIKSTL...         575.0   \n",
       "1549030  MVLEMLNPIHYNITSIVPEAMPAATMPVLLLTGLFLLVWNYEGTSS...        1000.0   \n",
       "1549031  MGNAAAAKKGSEQESVKEFLAKAKEDFLKKWESPAQNTAHLDQFER...       19010.0   \n",
       "1549032  MSGLGDSSSDPANPDSHKRKGSPCDTLASSTEKRRREQENKYLEEL...       15794.0   \n",
       "1549033  MSGLGENLDPLASDSRKRKLPCDTPGQGLTCSGEKRRREQESKYIE...        4510.0   \n",
       "\n",
       "        Is_Above_Median is_over_500  Ligand_len  Target_Chain_len  \n",
       "0                   Yes         Yes          25               530  \n",
       "1                   Yes         Yes          25               595  \n",
       "2                   Yes         Yes          32               530  \n",
       "3                   Yes         Yes          32               595  \n",
       "4                   Yes         Yes          90               253  \n",
       "...                 ...         ...         ...               ...  \n",
       "1549029              No         Yes          38               199  \n",
       "1549030             Yes         Yes          32               503  \n",
       "1549031             Yes         Yes          27               351  \n",
       "1549032             Yes         Yes          19              1441  \n",
       "1549033             Yes         Yes          19              1424  \n",
       "\n",
       "[1504704 rows x 7 columns]"
      ]
     },
     "execution_count": 37,
     "metadata": {},
     "output_type": "execute_result"
    }
   ],
   "source": [
    "filtered_data"
   ]
  },
  {
   "cell_type": "code",
   "execution_count": 56,
   "id": "b19a4e8f",
   "metadata": {},
   "outputs": [
    {
     "name": "stderr",
     "output_type": "stream",
     "text": [
      "C:\\Users\\pkrys\\AppData\\Local\\Temp\\ipykernel_12180\\1622213552.py:1: SettingWithCopyWarning: \n",
      "A value is trying to be set on a copy of a slice from a DataFrame.\n",
      "Try using .loc[row_indexer,col_indexer] = value instead\n",
      "\n",
      "See the caveats in the documentation: https://pandas.pydata.org/pandas-docs/stable/user_guide/indexing.html#returning-a-view-versus-a-copy\n",
      "  filtered_data[\"logIC50\"] = np.log10(filtered_data[\"IC50_nM_mean\"] + 1e-6)\n",
      "C:\\Users\\pkrys\\AppData\\Local\\Temp\\ipykernel_12180\\1622213552.py:2: SettingWithCopyWarning: \n",
      "A value is trying to be set on a copy of a slice from a DataFrame.\n",
      "Try using .loc[row_indexer,col_indexer] = value instead\n",
      "\n",
      "See the caveats in the documentation: https://pandas.pydata.org/pandas-docs/stable/user_guide/indexing.html#returning-a-view-versus-a-copy\n",
      "  filtered_data[\"IAM\"] = filtered_data[\"Is_Above_Median\"].apply(lambda x: binary_score_converter[x])\n"
     ]
    }
   ],
   "source": [
    "filtered_data[\"logIC50\"] = np.log10(filtered_data[\"IC50_nM_mean\"] + 1e-6)\n",
    "filtered_data[\"IAM\"] = filtered_data[\"Is_Above_Median\"].apply(lambda x: binary_score_converter[x])"
   ]
  },
  {
   "cell_type": "code",
   "execution_count": 57,
   "id": "55a8a738",
   "metadata": {},
   "outputs": [
    {
     "name": "stderr",
     "output_type": "stream",
     "text": [
      "C:\\Users\\pkrys\\AppData\\Local\\Temp\\ipykernel_12180\\435679954.py:3: SettingWithCopyWarning: \n",
      "A value is trying to be set on a copy of a slice from a DataFrame.\n",
      "Try using .loc[row_indexer,col_indexer] = value instead\n",
      "\n",
      "See the caveats in the documentation: https://pandas.pydata.org/pandas-docs/stable/user_guide/indexing.html#returning-a-view-versus-a-copy\n",
      "  filtered_data[\"logIC50_scaled\"] = (filtered_data[\"logIC50\"] - min_) / (max_ - min_)\n"
     ]
    }
   ],
   "source": [
    "max_ = filtered_data[\"logIC50\"].max()\n",
    "min_ = filtered_data[\"logIC50\"].min()\n",
    "filtered_data[\"logIC50_scaled\"] = (filtered_data[\"logIC50\"] - min_) / (max_ - min_)"
   ]
  },
  {
   "cell_type": "code",
   "execution_count": 58,
   "id": "9d5a4eaa",
   "metadata": {},
   "outputs": [],
   "source": [
    "filtered_data_to_save = filtered_data[[\"Ligand SMILES\", \"BindingDB Target Chain Sequence\", \"IAM\", \"logIC50_scaled\"]]"
   ]
  },
  {
   "cell_type": "code",
   "execution_count": 59,
   "id": "4d385888",
   "metadata": {},
   "outputs": [
    {
     "name": "stderr",
     "output_type": "stream",
     "text": [
      "C:\\Users\\pkrys\\AppData\\Local\\Temp\\ipykernel_12180\\2020194471.py:1: SettingWithCopyWarning: \n",
      "A value is trying to be set on a copy of a slice from a DataFrame\n",
      "\n",
      "See the caveats in the documentation: https://pandas.pydata.org/pandas-docs/stable/user_guide/indexing.html#returning-a-view-versus-a-copy\n",
      "  filtered_data_to_save.rename(columns={\"Ligand SMILES\": \"Ligand\",\n"
     ]
    }
   ],
   "source": [
    "filtered_data_to_save.rename(columns={\"Ligand SMILES\": \"Ligand\",\n",
    "                                      \"BindingDB Target Chain Sequence\": \"Target_Chain\",\n",
    "                                      },\n",
    "                            inplace=True)"
   ]
  },
  {
   "cell_type": "code",
   "execution_count": 50,
   "id": "88bc6d49",
   "metadata": {},
   "outputs": [
    {
     "data": {
      "text/plain": [
       "np.float64(13.999999999999996)"
      ]
     },
     "execution_count": 50,
     "metadata": {},
     "output_type": "execute_result"
    }
   ],
   "source": [
    "max_"
   ]
  },
  {
   "cell_type": "code",
   "execution_count": 51,
   "id": "d7d9cb31",
   "metadata": {},
   "outputs": [
    {
     "data": {
      "text/plain": [
       "np.float64(-6.0)"
      ]
     },
     "execution_count": 51,
     "metadata": {},
     "output_type": "execute_result"
    }
   ],
   "source": [
    "min_"
   ]
  },
  {
   "cell_type": "code",
   "execution_count": 62,
   "id": "a2e8a3e4",
   "metadata": {},
   "outputs": [],
   "source": [
    "filtered_data_to_save.to_csv(f\"../csv_dataset/filtered_binding_finalm.csv\", header=True, index=False)"
   ]
  },
  {
   "cell_type": "code",
   "execution_count": 47,
   "id": "fa6d0fa9",
   "metadata": {},
   "outputs": [
    {
     "data": {
      "text/plain": [
       "np.float64(-6.0)"
      ]
     },
     "execution_count": 47,
     "metadata": {},
     "output_type": "execute_result"
    }
   ],
   "source": [
    "min_"
   ]
  },
  {
   "cell_type": "code",
   "execution_count": 48,
   "id": "ddd180a0",
   "metadata": {},
   "outputs": [
    {
     "data": {
      "text/plain": [
       "np.float64(13.999999999999996)"
      ]
     },
     "execution_count": 48,
     "metadata": {},
     "output_type": "execute_result"
    }
   ],
   "source": [
    "max_"
   ]
  },
  {
   "cell_type": "code",
   "execution_count": 7,
   "id": "c8984415",
   "metadata": {},
   "outputs": [],
   "source": [
    "filtered_data = data"
   ]
  },
  {
   "cell_type": "code",
   "execution_count": 8,
   "id": "8312aea6",
   "metadata": {},
   "outputs": [],
   "source": [
    "import sentencepiece as spm"
   ]
  },
  {
   "cell_type": "code",
   "execution_count": 9,
   "id": "dd4ade88",
   "metadata": {},
   "outputs": [],
   "source": [
    "def iter_pipeline(text):\n",
    "    for line in text:\n",
    "        line = line.rstrip()\n",
    "        yield line"
   ]
  },
  {
   "cell_type": "code",
   "execution_count": 11,
   "id": "a42ff261",
   "metadata": {},
   "outputs": [
    {
     "name": "stderr",
     "output_type": "stream",
     "text": [
      "sentencepiece_trainer.cc(78) LOG(INFO) Starts training with : \n",
      "trainer_spec {\n",
      "  input_format: \n",
      "  model_prefix: test_model\n",
      "  model_type: BPE\n",
      "  vocab_size: 128\n",
      "  self_test_sample_size: 0\n",
      "  character_coverage: 1\n",
      "  input_sentence_size: 0\n",
      "  shuffle_input_sentence: 1\n",
      "  seed_sentencepiece_size: 1000000\n",
      "  shrinking_factor: 0.75\n",
      "  max_sentence_length: 4192\n",
      "  num_threads: 16\n",
      "  num_sub_iterations: 2\n",
      "  max_sentencepiece_length: 16\n",
      "  split_by_unicode_script: 1\n",
      "  split_by_number: 1\n",
      "  split_by_whitespace: 1\n",
      "  split_digits: 0\n",
      "  pretokenization_delimiter: \n",
      "  treat_whitespace_as_suffix: 0\n",
      "  allow_whitespace_only_pieces: 0\n",
      "  required_chars: \n",
      "  byte_fallback: 0\n",
      "  vocabulary_output_piece_score: 1\n",
      "  train_extremely_large_corpus: 0\n",
      "  seed_sentencepieces_file: \n",
      "  hard_vocab_limit: 1\n",
      "  use_all_vocab: 0\n",
      "  unk_id: 0\n",
      "  bos_id: 1\n",
      "  eos_id: 2\n",
      "  pad_id: -1\n",
      "  unk_piece: <unk>\n",
      "  bos_piece: <s>\n",
      "  eos_piece: </s>\n",
      "  pad_piece: <pad>\n",
      "  unk_surface:  ⁇ \n",
      "  enable_differential_privacy: 0\n",
      "  differential_privacy_noise_level: 0\n",
      "  differential_privacy_clipping_threshold: 0\n",
      "}\n",
      "normalizer_spec {\n",
      "  name: nmt_nfkc\n",
      "  add_dummy_prefix: 1\n",
      "  remove_extra_whitespaces: 1\n",
      "  escape_whitespaces: 1\n",
      "  normalization_rule_tsv: \n",
      "}\n",
      "denormalizer_spec {}\n",
      "trainer_interface.cc(409) LOG(INFO) Loaded all 520649 sentences\n",
      "trainer_interface.cc(425) LOG(INFO) Adding meta_piece: <unk>\n",
      "trainer_interface.cc(425) LOG(INFO) Adding meta_piece: <s>\n",
      "trainer_interface.cc(425) LOG(INFO) Adding meta_piece: </s>\n",
      "trainer_interface.cc(430) LOG(INFO) Normalizing sentences...\n",
      "trainer_interface.cc(539) LOG(INFO) all chars count=333616133\n",
      "trainer_interface.cc(550) LOG(INFO) Done: 100% characters are covered.\n",
      "trainer_interface.cc(560) LOG(INFO) Alphabet size=53\n",
      "trainer_interface.cc(561) LOG(INFO) Final character coverage=1\n",
      "trainer_interface.cc(592) LOG(INFO) Done! preprocessed 520649 sentences.\n",
      "trainer_interface.cc(598) LOG(INFO) Tokenizing input sentences with whitespace: 520649\n",
      "trainer_interface.cc(609) LOG(INFO) Done! 5494\n",
      "bpe_model_trainer.cc(159) LOG(INFO) Updating active symbols. max_freq=3724076 min_freq=5\n",
      "bpe_model_trainer.cc(268) LOG(INFO) Added: freq=1373688 size=20 all=1988 active=1934 piece=KK\n",
      "bpe_model_trainer.cc(268) LOG(INFO) Added: freq=924116 size=40 all=3873 active=3819 piece=RE\n",
      "bpe_model_trainer.cc(268) LOG(INFO) Added: freq=774471 size=60 all=6532 active=6478 piece=RG\n",
      "trainer_interface.cc(687) LOG(INFO) Saving model: test_model.model\n",
      "trainer_interface.cc(699) LOG(INFO) Saving vocabs: test_model.vocab\n"
     ]
    }
   ],
   "source": [
    "spm.SentencePieceTrainer.train(sentence_iterator=iter_pipeline(filtered_data[\"Target_Chain\"]), model_prefix=\"test_model\",\n",
    "                                   vocab_size=128, character_coverage=1.0, model_type='bpe')"
   ]
  },
  {
   "cell_type": "code",
   "execution_count": 12,
   "id": "8fa7f056",
   "metadata": {},
   "outputs": [],
   "source": [
    "encoder = spm.SentencePieceProcessor(model_file=\"test_model.model\")"
   ]
  },
  {
   "cell_type": "code",
   "execution_count": 16,
   "id": "7d54eb95",
   "metadata": {},
   "outputs": [
    {
     "data": {
      "text/plain": [
       "'PISPITVPVKLKPGMDGPKVKQWPLTEEKI'"
      ]
     },
     "execution_count": 16,
     "metadata": {},
     "output_type": "execute_result"
    }
   ],
   "source": [
    "filtered_data.loc[1].Target_Chain[:30]"
   ]
  },
  {
   "cell_type": "code",
   "execution_count": 41,
   "id": "5c3c52ce",
   "metadata": {},
   "outputs": [
    {
     "data": {
      "text/plain": [
       "'95|81|38|81|85|30|49|82|11|33|92|52|81|51|82|88|94|81|15|5|45'"
      ]
     },
     "execution_count": 41,
     "metadata": {},
     "output_type": "execute_result"
    }
   ],
   "source": [
    "\"|\".join([ str(c) for c in encoder.encode('PISPITVPVKLKPGMDGPKVKQWPLTEEKI')])"
   ]
  },
  {
   "cell_type": "code",
   "execution_count": 25,
   "id": "34c47e26",
   "metadata": {},
   "outputs": [
    {
     "data": {
      "text/plain": [
       "'▁|P|IS|P|I|TV|PV|K|LK|PG|M|DG|P|KV|K|Q|W|P|LT|EE|KI'"
      ]
     },
     "execution_count": 25,
     "metadata": {},
     "output_type": "execute_result"
    }
   ],
   "source": [
    "\"|\".join([ str(c) for c in encoder.encode_as_pieces('PISPITVPVKLKPGMDGPKVKQWPLTEEKI')])"
   ]
  },
  {
   "cell_type": "code",
   "execution_count": 43,
   "id": "2ccce4e1",
   "metadata": {},
   "outputs": [
    {
     "data": {
      "text/plain": [
       "[95, 15]"
      ]
     },
     "execution_count": 43,
     "metadata": {},
     "output_type": "execute_result"
    }
   ],
   "source": [
    "encoder.encode(\"LT\")"
   ]
  },
  {
   "cell_type": "code",
   "execution_count": 34,
   "id": "f72d7f15",
   "metadata": {},
   "outputs": [],
   "source": [
    "import torch"
   ]
  },
  {
   "cell_type": "code",
   "execution_count": 41,
   "id": "a222a915",
   "metadata": {},
   "outputs": [],
   "source": [
    "input_sequence = torch.Tensor(encoder.encode('BP(=O)(COCCn1cnc2c(N)ncnc12)OP(O)(=O)OP(O)(O)=O')).int()"
   ]
  },
  {
   "cell_type": "code",
   "execution_count": 42,
   "id": "574d13ed",
   "metadata": {},
   "outputs": [],
   "source": [
    "embedding_layer = torch.nn.Embedding(128, 128)"
   ]
  },
  {
   "cell_type": "code",
   "execution_count": 44,
   "id": "945015e9",
   "metadata": {},
   "outputs": [
    {
     "data": {
      "text/plain": [
       "torch.Size([33, 128])"
      ]
     },
     "execution_count": 44,
     "metadata": {},
     "output_type": "execute_result"
    }
   ],
   "source": [
    "embedding_layer(input_sequence).size()"
   ]
  },
  {
   "cell_type": "code",
   "execution_count": 47,
   "id": "d1d119f8",
   "metadata": {},
   "outputs": [
    {
     "data": {
      "text/plain": [
       "[83, 3]"
      ]
     },
     "execution_count": 47,
     "metadata": {},
     "output_type": "execute_result"
    }
   ],
   "source": [
    "encoder.encode('cc')"
   ]
  },
  {
   "cell_type": "code",
   "execution_count": 48,
   "id": "5cde5b09",
   "metadata": {},
   "outputs": [
    {
     "ename": "AttributeError",
     "evalue": "'list' object has no attribute 'size'",
     "output_type": "error",
     "traceback": [
      "\u001b[0;31m---------------------------------------------------------------------------\u001b[0m",
      "\u001b[0;31mAttributeError\u001b[0m                            Traceback (most recent call last)",
      "Cell \u001b[0;32mIn[48], line 1\u001b[0m\n\u001b[0;32m----> 1\u001b[0m \u001b[43mtorch\u001b[49m\u001b[38;5;241;43m.\u001b[39;49m\u001b[43mnn\u001b[49m\u001b[38;5;241;43m.\u001b[39;49m\u001b[43mutils\u001b[49m\u001b[38;5;241;43m.\u001b[39;49m\u001b[43mrnn\u001b[49m\u001b[38;5;241;43m.\u001b[39;49m\u001b[43mpack_sequence\u001b[49m\u001b[43m(\u001b[49m\u001b[43m[\u001b[49m\u001b[43mencoder\u001b[49m\u001b[38;5;241;43m.\u001b[39;49m\u001b[43mencode\u001b[49m\u001b[43m(\u001b[49m\u001b[38;5;124;43m'\u001b[39;49m\u001b[38;5;124;43mBP(=O)(COCCn1cnc2c(N)ncnc12)OP(O)(=O)OP(O)(O)=O\u001b[39;49m\u001b[38;5;124;43m'\u001b[39;49m\u001b[43m)\u001b[49m\u001b[43m]\u001b[49m\u001b[43m)\u001b[49m\n",
      "File \u001b[0;32m~/.local/lib/python3.12/site-packages/torch/nn/utils/rnn.py:562\u001b[0m, in \u001b[0;36mpack_sequence\u001b[0;34m(sequences, enforce_sorted)\u001b[0m\n\u001b[1;32m    529\u001b[0m \u001b[38;5;28;01mdef\u001b[39;00m \u001b[38;5;21mpack_sequence\u001b[39m(\n\u001b[1;32m    530\u001b[0m     sequences: \u001b[38;5;28mlist\u001b[39m[Tensor],\n\u001b[1;32m    531\u001b[0m     enforce_sorted: \u001b[38;5;28mbool\u001b[39m \u001b[38;5;241m=\u001b[39m \u001b[38;5;28;01mTrue\u001b[39;00m,\n\u001b[1;32m    532\u001b[0m ) \u001b[38;5;241m-\u001b[39m\u001b[38;5;241m>\u001b[39m PackedSequence:\n\u001b[1;32m    533\u001b[0m \u001b[38;5;250m    \u001b[39m\u001b[38;5;124mr\u001b[39m\u001b[38;5;124;03m\"\"\"Packs a list of variable length Tensors.\u001b[39;00m\n\u001b[1;32m    534\u001b[0m \n\u001b[1;32m    535\u001b[0m \u001b[38;5;124;03m    Consecutive call of the next functions: ``pad_sequence``, ``pack_padded_sequence``.\u001b[39;00m\n\u001b[0;32m   (...)\u001b[0m\n\u001b[1;32m    560\u001b[0m \u001b[38;5;124;03m        a :class:`PackedSequence` object\u001b[39;00m\n\u001b[1;32m    561\u001b[0m \u001b[38;5;124;03m    \"\"\"\u001b[39;00m\n\u001b[0;32m--> 562\u001b[0m     lengths \u001b[38;5;241m=\u001b[39m torch\u001b[38;5;241m.\u001b[39mas_tensor([\u001b[43mv\u001b[49m\u001b[38;5;241;43m.\u001b[39;49m\u001b[43msize\u001b[49m(\u001b[38;5;241m0\u001b[39m) \u001b[38;5;28;01mfor\u001b[39;00m v \u001b[38;5;129;01min\u001b[39;00m sequences])\n\u001b[1;32m    563\u001b[0m     \u001b[38;5;28;01mreturn\u001b[39;00m pack_padded_sequence(\n\u001b[1;32m    564\u001b[0m         pad_sequence(sequences), lengths, enforce_sorted\u001b[38;5;241m=\u001b[39menforce_sorted\n\u001b[1;32m    565\u001b[0m     )\n",
      "\u001b[0;31mAttributeError\u001b[0m: 'list' object has no attribute 'size'"
     ]
    }
   ],
   "source": [
    "torch.nn.utils.rnn.pack_sequence([encoder.encode('BP(=O)(COCCn1cnc2c(N)ncnc12)OP(O)(=O)OP(O)(O)=O')])"
   ]
  },
  {
   "cell_type": "code",
   "execution_count": 49,
   "id": "05f956f0",
   "metadata": {},
   "outputs": [
    {
     "data": {
      "text/html": [
       "<div>\n",
       "<style scoped>\n",
       "    .dataframe tbody tr th:only-of-type {\n",
       "        vertical-align: middle;\n",
       "    }\n",
       "\n",
       "    .dataframe tbody tr th {\n",
       "        vertical-align: top;\n",
       "    }\n",
       "\n",
       "    .dataframe thead th {\n",
       "        text-align: right;\n",
       "    }\n",
       "</style>\n",
       "<table border=\"1\" class=\"dataframe\">\n",
       "  <thead>\n",
       "    <tr style=\"text-align: right;\">\n",
       "      <th></th>\n",
       "      <th>Ligand</th>\n",
       "      <th>Target_Chain</th>\n",
       "      <th>IC50</th>\n",
       "      <th>Ligand_len</th>\n",
       "      <th>Target_Chain_len</th>\n",
       "    </tr>\n",
       "  </thead>\n",
       "  <tbody>\n",
       "    <tr>\n",
       "      <th>0</th>\n",
       "      <td>B.Oc1ccc(cc1)P(c1ccccc1)c1ccccc1</td>\n",
       "      <td>MTMTLHTKASGMALLHQIQGNELEPLNRPQLKIPLERPLGEVYLDS...</td>\n",
       "      <td>yes</td>\n",
       "      <td>32</td>\n",
       "      <td>595</td>\n",
       "    </tr>\n",
       "    <tr>\n",
       "      <th>1</th>\n",
       "      <td>BP(=O)(COCCn1cnc2c(N)ncnc12)OP(O)(=O)OP(O)(O)=O</td>\n",
       "      <td>PISPITVPVKLKPGMDGPKVKQWPLTEEKIKALTEICTEMEKEGKI...</td>\n",
       "      <td>yes</td>\n",
       "      <td>47</td>\n",
       "      <td>254</td>\n",
       "    </tr>\n",
       "    <tr>\n",
       "      <th>2</th>\n",
       "      <td>BP(=O)(CO[C@H](C)Cn1cnc2c(N)ncnc12)OP(O)(=O)OP...</td>\n",
       "      <td>PISPITVPVKLKPGMDGPKVKQWPLTEEKIKALTEICTEMEKEGKI...</td>\n",
       "      <td>yes</td>\n",
       "      <td>54</td>\n",
       "      <td>254</td>\n",
       "    </tr>\n",
       "    <tr>\n",
       "      <th>3</th>\n",
       "      <td>Bc1cc(Cl)ccc1COc1ccnn1-c1cc(ccn1)C(O)=O</td>\n",
       "      <td>MEAATTLHPGPRPALPLGGPGPLGEFLPPPECPVFEPSWEEFADPF...</td>\n",
       "      <td>no</td>\n",
       "      <td>39</td>\n",
       "      <td>1544</td>\n",
       "    </tr>\n",
       "    <tr>\n",
       "      <th>4</th>\n",
       "      <td>Bc1ccc(F)c2[C@@H](CCc12)Nc1ccc(nc1)[C@H]1C[C@@...</td>\n",
       "      <td>MDSLVVLVLCLSCLLLLSLWRQSSGRGKLPPGPTPLPVIGNILQIG...</td>\n",
       "      <td>yes</td>\n",
       "      <td>55</td>\n",
       "      <td>490</td>\n",
       "    </tr>\n",
       "    <tr>\n",
       "      <th>...</th>\n",
       "      <td>...</td>\n",
       "      <td>...</td>\n",
       "      <td>...</td>\n",
       "      <td>...</td>\n",
       "      <td>...</td>\n",
       "    </tr>\n",
       "    <tr>\n",
       "      <th>533943</th>\n",
       "      <td>c1sc(nc1-c1cccnc1)-c1cccnc1</td>\n",
       "      <td>MVSSQKLEKPIEMGSSEPLPIADGDRRRKKKRRGRATDSLPGKFED...</td>\n",
       "      <td>yes</td>\n",
       "      <td>27</td>\n",
       "      <td>465</td>\n",
       "    </tr>\n",
       "    <tr>\n",
       "      <th>533944</th>\n",
       "      <td>c1sc(nc1-c1cccnc1)-c1ccncc1</td>\n",
       "      <td>MVLEMLNPIHYNITSIVPEAMPAATMPVLLLTGLFLLVWNYEGTSS...</td>\n",
       "      <td>no</td>\n",
       "      <td>27</td>\n",
       "      <td>503</td>\n",
       "    </tr>\n",
       "    <tr>\n",
       "      <th>533945</th>\n",
       "      <td>c1sc(nc1-c1cnc(nc1)-c1ccccc1)-c1ccccc1</td>\n",
       "      <td>MPNYKLTYFNMRGRAEIIRYIFAYLDIQYEDHRIEQADWPEIKSTL...</td>\n",
       "      <td>yes</td>\n",
       "      <td>38</td>\n",
       "      <td>199</td>\n",
       "    </tr>\n",
       "    <tr>\n",
       "      <th>533946</th>\n",
       "      <td>c1sc2ncn3cnnc3c2c1-c1ccccc1</td>\n",
       "      <td>MGNAAAAKKGSEQESVKEFLAKAKEDFLKKWESPAQNTAHLDQFER...</td>\n",
       "      <td>yes</td>\n",
       "      <td>27</td>\n",
       "      <td>351</td>\n",
       "    </tr>\n",
       "    <tr>\n",
       "      <th>533947</th>\n",
       "      <td>c1scc2c1ncc1cnccc21</td>\n",
       "      <td>MSGLGDSSSDPANPDSHKRKGSPCDTLASSTEKRRREQENKYLEEL...</td>\n",
       "      <td>yes</td>\n",
       "      <td>19</td>\n",
       "      <td>1441</td>\n",
       "    </tr>\n",
       "  </tbody>\n",
       "</table>\n",
       "<p>533948 rows × 5 columns</p>\n",
       "</div>"
      ],
      "text/plain": [
       "                                                   Ligand  \\\n",
       "0                        B.Oc1ccc(cc1)P(c1ccccc1)c1ccccc1   \n",
       "1         BP(=O)(COCCn1cnc2c(N)ncnc12)OP(O)(=O)OP(O)(O)=O   \n",
       "2       BP(=O)(CO[C@H](C)Cn1cnc2c(N)ncnc12)OP(O)(=O)OP...   \n",
       "3                 Bc1cc(Cl)ccc1COc1ccnn1-c1cc(ccn1)C(O)=O   \n",
       "4       Bc1ccc(F)c2[C@@H](CCc12)Nc1ccc(nc1)[C@H]1C[C@@...   \n",
       "...                                                   ...   \n",
       "533943                        c1sc(nc1-c1cccnc1)-c1cccnc1   \n",
       "533944                        c1sc(nc1-c1cccnc1)-c1ccncc1   \n",
       "533945             c1sc(nc1-c1cnc(nc1)-c1ccccc1)-c1ccccc1   \n",
       "533946                        c1sc2ncn3cnnc3c2c1-c1ccccc1   \n",
       "533947                                c1scc2c1ncc1cnccc21   \n",
       "\n",
       "                                             Target_Chain IC50  Ligand_len  \\\n",
       "0       MTMTLHTKASGMALLHQIQGNELEPLNRPQLKIPLERPLGEVYLDS...  yes          32   \n",
       "1       PISPITVPVKLKPGMDGPKVKQWPLTEEKIKALTEICTEMEKEGKI...  yes          47   \n",
       "2       PISPITVPVKLKPGMDGPKVKQWPLTEEKIKALTEICTEMEKEGKI...  yes          54   \n",
       "3       MEAATTLHPGPRPALPLGGPGPLGEFLPPPECPVFEPSWEEFADPF...   no          39   \n",
       "4       MDSLVVLVLCLSCLLLLSLWRQSSGRGKLPPGPTPLPVIGNILQIG...  yes          55   \n",
       "...                                                   ...  ...         ...   \n",
       "533943  MVSSQKLEKPIEMGSSEPLPIADGDRRRKKKRRGRATDSLPGKFED...  yes          27   \n",
       "533944  MVLEMLNPIHYNITSIVPEAMPAATMPVLLLTGLFLLVWNYEGTSS...   no          27   \n",
       "533945  MPNYKLTYFNMRGRAEIIRYIFAYLDIQYEDHRIEQADWPEIKSTL...  yes          38   \n",
       "533946  MGNAAAAKKGSEQESVKEFLAKAKEDFLKKWESPAQNTAHLDQFER...  yes          27   \n",
       "533947  MSGLGDSSSDPANPDSHKRKGSPCDTLASSTEKRRREQENKYLEEL...  yes          19   \n",
       "\n",
       "        Target_Chain_len  \n",
       "0                    595  \n",
       "1                    254  \n",
       "2                    254  \n",
       "3                   1544  \n",
       "4                    490  \n",
       "...                  ...  \n",
       "533943               465  \n",
       "533944               503  \n",
       "533945               199  \n",
       "533946               351  \n",
       "533947              1441  \n",
       "\n",
       "[533948 rows x 5 columns]"
      ]
     },
     "execution_count": 49,
     "metadata": {},
     "output_type": "execute_result"
    }
   ],
   "source": [
    "data"
   ]
  },
  {
   "cell_type": "code",
   "execution_count": 50,
   "id": "65bb039f",
   "metadata": {},
   "outputs": [],
   "source": [
    "data.head(10).to_json(\"test.json\")"
   ]
  },
  {
   "cell_type": "code",
   "execution_count": null,
   "id": "7377ffb2",
   "metadata": {},
   "outputs": [
    {
     "data": {
      "text/html": [
       "<div>\n",
       "<style scoped>\n",
       "    .dataframe tbody tr th:only-of-type {\n",
       "        vertical-align: middle;\n",
       "    }\n",
       "\n",
       "    .dataframe tbody tr th {\n",
       "        vertical-align: top;\n",
       "    }\n",
       "\n",
       "    .dataframe thead th {\n",
       "        text-align: right;\n",
       "    }\n",
       "</style>\n",
       "<table border=\"1\" class=\"dataframe\">\n",
       "  <thead>\n",
       "    <tr style=\"text-align: right;\">\n",
       "      <th></th>\n",
       "      <th>Ligand</th>\n",
       "      <th>Target_Chain</th>\n",
       "      <th>IC50</th>\n",
       "      <th>Ligand_len</th>\n",
       "      <th>Target_Chain_len</th>\n",
       "    </tr>\n",
       "  </thead>\n",
       "  <tbody>\n",
       "    <tr>\n",
       "      <th>0</th>\n",
       "      <td>B.Oc1ccc(cc1)P(c1ccccc1)c1ccccc1</td>\n",
       "      <td>MTMTLHTKASGMALLHQIQGNELEPLNRPQLKIPLERPLGEVYLDS...</td>\n",
       "      <td>yes</td>\n",
       "      <td>32</td>\n",
       "      <td>595</td>\n",
       "    </tr>\n",
       "    <tr>\n",
       "      <th>1</th>\n",
       "      <td>BP(=O)(COCCn1cnc2c(N)ncnc12)OP(O)(=O)OP(O)(O)=O</td>\n",
       "      <td>PISPITVPVKLKPGMDGPKVKQWPLTEEKIKALTEICTEMEKEGKI...</td>\n",
       "      <td>yes</td>\n",
       "      <td>47</td>\n",
       "      <td>254</td>\n",
       "    </tr>\n",
       "    <tr>\n",
       "      <th>2</th>\n",
       "      <td>BP(=O)(CO[C@H](C)Cn1cnc2c(N)ncnc12)OP(O)(=O)OP...</td>\n",
       "      <td>PISPITVPVKLKPGMDGPKVKQWPLTEEKIKALTEICTEMEKEGKI...</td>\n",
       "      <td>yes</td>\n",
       "      <td>54</td>\n",
       "      <td>254</td>\n",
       "    </tr>\n",
       "    <tr>\n",
       "      <th>3</th>\n",
       "      <td>Bc1cc(Cl)ccc1COc1ccnn1-c1cc(ccn1)C(O)=O</td>\n",
       "      <td>MEAATTLHPGPRPALPLGGPGPLGEFLPPPECPVFEPSWEEFADPF...</td>\n",
       "      <td>no</td>\n",
       "      <td>39</td>\n",
       "      <td>1544</td>\n",
       "    </tr>\n",
       "    <tr>\n",
       "      <th>4</th>\n",
       "      <td>Bc1ccc(F)c2[C@@H](CCc12)Nc1ccc(nc1)[C@H]1C[C@@...</td>\n",
       "      <td>MDSLVVLVLCLSCLLLLSLWRQSSGRGKLPPGPTPLPVIGNILQIG...</td>\n",
       "      <td>yes</td>\n",
       "      <td>55</td>\n",
       "      <td>490</td>\n",
       "    </tr>\n",
       "    <tr>\n",
       "      <th>5</th>\n",
       "      <td>Bc1ccc(F)c2[C@@H](CCc12)Nc1ccc(nc1)[C@H]1C[C@@...</td>\n",
       "      <td>MEPFVVLVLCLSFMLLFSLWRQSCRRRKLPPGPTPLPIIGNMLQID...</td>\n",
       "      <td>yes</td>\n",
       "      <td>55</td>\n",
       "      <td>490</td>\n",
       "    </tr>\n",
       "    <tr>\n",
       "      <th>6</th>\n",
       "      <td>Br.Br.Br.NC(=N)SCc1cc(CSC(N)=N)c(Br)c(CSC(N)=N...</td>\n",
       "      <td>MEAAHSKSTEECLAYFGVSETTGLTPDQVKRHLEKYGHNELPAEEG...</td>\n",
       "      <td>yes</td>\n",
       "      <td>51</td>\n",
       "      <td>1001</td>\n",
       "    </tr>\n",
       "    <tr>\n",
       "      <th>7</th>\n",
       "      <td>Br.BrCC1CN=C(NCc2ccccc2)S1</td>\n",
       "      <td>EEDIIITTKNGKVRGMNLPVLGGTVTAFLGIPYAQPPLGRLRFKKP...</td>\n",
       "      <td>yes</td>\n",
       "      <td>26</td>\n",
       "      <td>574</td>\n",
       "    </tr>\n",
       "    <tr>\n",
       "      <th>8</th>\n",
       "      <td>Br.BrCC1CN=C(NCc2ccccc2)S1</td>\n",
       "      <td>MWLLPLVLTSLASSATWAGQPASPPVVDTAQGRVLGKYVSLEGLAQ...</td>\n",
       "      <td>yes</td>\n",
       "      <td>26</td>\n",
       "      <td>566</td>\n",
       "    </tr>\n",
       "    <tr>\n",
       "      <th>9</th>\n",
       "      <td>Br.BrCC1CN=C(Nc2ccccc2)S1</td>\n",
       "      <td>MWLLPLVLTSLASSATWAGQPASPPVVDTAQGRVLGKYVSLEGLAQ...</td>\n",
       "      <td>yes</td>\n",
       "      <td>25</td>\n",
       "      <td>566</td>\n",
       "    </tr>\n",
       "  </tbody>\n",
       "</table>\n",
       "</div>"
      ],
      "text/plain": [
       "                                              Ligand  \\\n",
       "0                   B.Oc1ccc(cc1)P(c1ccccc1)c1ccccc1   \n",
       "1    BP(=O)(COCCn1cnc2c(N)ncnc12)OP(O)(=O)OP(O)(O)=O   \n",
       "2  BP(=O)(CO[C@H](C)Cn1cnc2c(N)ncnc12)OP(O)(=O)OP...   \n",
       "3            Bc1cc(Cl)ccc1COc1ccnn1-c1cc(ccn1)C(O)=O   \n",
       "4  Bc1ccc(F)c2[C@@H](CCc12)Nc1ccc(nc1)[C@H]1C[C@@...   \n",
       "5  Bc1ccc(F)c2[C@@H](CCc12)Nc1ccc(nc1)[C@H]1C[C@@...   \n",
       "6  Br.Br.Br.NC(=N)SCc1cc(CSC(N)=N)c(Br)c(CSC(N)=N...   \n",
       "7                         Br.BrCC1CN=C(NCc2ccccc2)S1   \n",
       "8                         Br.BrCC1CN=C(NCc2ccccc2)S1   \n",
       "9                          Br.BrCC1CN=C(Nc2ccccc2)S1   \n",
       "\n",
       "                                        Target_Chain IC50  Ligand_len  \\\n",
       "0  MTMTLHTKASGMALLHQIQGNELEPLNRPQLKIPLERPLGEVYLDS...  yes          32   \n",
       "1  PISPITVPVKLKPGMDGPKVKQWPLTEEKIKALTEICTEMEKEGKI...  yes          47   \n",
       "2  PISPITVPVKLKPGMDGPKVKQWPLTEEKIKALTEICTEMEKEGKI...  yes          54   \n",
       "3  MEAATTLHPGPRPALPLGGPGPLGEFLPPPECPVFEPSWEEFADPF...   no          39   \n",
       "4  MDSLVVLVLCLSCLLLLSLWRQSSGRGKLPPGPTPLPVIGNILQIG...  yes          55   \n",
       "5  MEPFVVLVLCLSFMLLFSLWRQSCRRRKLPPGPTPLPIIGNMLQID...  yes          55   \n",
       "6  MEAAHSKSTEECLAYFGVSETTGLTPDQVKRHLEKYGHNELPAEEG...  yes          51   \n",
       "7  EEDIIITTKNGKVRGMNLPVLGGTVTAFLGIPYAQPPLGRLRFKKP...  yes          26   \n",
       "8  MWLLPLVLTSLASSATWAGQPASPPVVDTAQGRVLGKYVSLEGLAQ...  yes          26   \n",
       "9  MWLLPLVLTSLASSATWAGQPASPPVVDTAQGRVLGKYVSLEGLAQ...  yes          25   \n",
       "\n",
       "   Target_Chain_len  \n",
       "0               595  \n",
       "1               254  \n",
       "2               254  \n",
       "3              1544  \n",
       "4               490  \n",
       "5               490  \n",
       "6              1001  \n",
       "7               574  \n",
       "8               566  \n",
       "9               566  "
      ]
     },
     "execution_count": 51,
     "metadata": {},
     "output_type": "execute_result"
    }
   ],
   "source": []
  },
  {
   "cell_type": "code",
   "execution_count": 53,
   "id": "906f41cb",
   "metadata": {},
   "outputs": [
    {
     "data": {
      "text/html": [
       "<div>\n",
       "<style scoped>\n",
       "    .dataframe tbody tr th:only-of-type {\n",
       "        vertical-align: middle;\n",
       "    }\n",
       "\n",
       "    .dataframe tbody tr th {\n",
       "        vertical-align: top;\n",
       "    }\n",
       "\n",
       "    .dataframe thead th {\n",
       "        text-align: right;\n",
       "    }\n",
       "</style>\n",
       "<table border=\"1\" class=\"dataframe\">\n",
       "  <thead>\n",
       "    <tr style=\"text-align: right;\">\n",
       "      <th></th>\n",
       "      <th>Ligand</th>\n",
       "      <th>Target_Chain</th>\n",
       "      <th>IC50</th>\n",
       "      <th>Ligand_len</th>\n",
       "      <th>Target_Chain_len</th>\n",
       "    </tr>\n",
       "  </thead>\n",
       "  <tbody>\n",
       "    <tr>\n",
       "      <th>418787</th>\n",
       "      <td>Fc1ccc(NS(=O)(=O)c2c(F)cc(NCc3c(F)cccc3CN3CCC3...</td>\n",
       "      <td>MANFLLPRGTSSFRRFTRESLAAIEKRMAEKQARGSTTLQESREGL...</td>\n",
       "      <td>yes</td>\n",
       "      <td>55</td>\n",
       "      <td>2016</td>\n",
       "    </tr>\n",
       "    <tr>\n",
       "      <th>532514</th>\n",
       "      <td>[O-][N+](=O)c1cccc2C(=O)C(Nc3ccccc3)=C(NS(=O)(...</td>\n",
       "      <td>MDIEAYFERIGYQSTRSKLDLKTLTEILQHQIRAIPFENLNIHCGE...</td>\n",
       "      <td>yes</td>\n",
       "      <td>66</td>\n",
       "      <td>290</td>\n",
       "    </tr>\n",
       "    <tr>\n",
       "      <th>508257</th>\n",
       "      <td>ONC(=O)C1Cc2ccccc2CN1S(=O)(=O)c1ccc(OCc2ccc(F)...</td>\n",
       "      <td>MFSLKTLPFLLLLHVQISKAFPVSSKEKNTKTVQDYLEKFYQLPSN...</td>\n",
       "      <td>no</td>\n",
       "      <td>53</td>\n",
       "      <td>467</td>\n",
       "    </tr>\n",
       "    <tr>\n",
       "      <th>165346</th>\n",
       "      <td>CN(CCO)c1ncc(cc1N1CCOCC1)-c1cc(NC(=O)c2cccc(c2...</td>\n",
       "      <td>MAALSGGGGGGAEPGQALFNGDMEPEAGAGAGAAASSAADPAIPEE...</td>\n",
       "      <td>no</td>\n",
       "      <td>61</td>\n",
       "      <td>766</td>\n",
       "    </tr>\n",
       "    <tr>\n",
       "      <th>231776</th>\n",
       "      <td>COc1cc(ccc1C(=O)N[C@H](CO)c1cccc(c1)C(=O)NC1CC...</td>\n",
       "      <td>MSRPPPTGKMPGAPETAPGDGAGASRQRKLEALIRDPRSPINVESL...</td>\n",
       "      <td>no</td>\n",
       "      <td>61</td>\n",
       "      <td>1388</td>\n",
       "    </tr>\n",
       "    <tr>\n",
       "      <th>...</th>\n",
       "      <td>...</td>\n",
       "      <td>...</td>\n",
       "      <td>...</td>\n",
       "      <td>...</td>\n",
       "      <td>...</td>\n",
       "    </tr>\n",
       "    <tr>\n",
       "      <th>186523</th>\n",
       "      <td>CNC(=O)c1cccc(CNC(=O)c2ccc-3c(c2)C(C)Oc2cnccc-...</td>\n",
       "      <td>MSRPPPTGKMPGAPETAPGDGAGASRQRKLEALIRDPRSPINVESL...</td>\n",
       "      <td>no</td>\n",
       "      <td>51</td>\n",
       "      <td>1388</td>\n",
       "    </tr>\n",
       "    <tr>\n",
       "      <th>517292</th>\n",
       "      <td>Oc1cc(CNC=C2C(=O)NC(=O)c3ccc(I)cc23)ccc1-c1ccoc1</td>\n",
       "      <td>MGSNKSKPKDASQRRRSLEPAENVHGAGGGAFPASQTPSKPASADG...</td>\n",
       "      <td>yes</td>\n",
       "      <td>48</td>\n",
       "      <td>536</td>\n",
       "    </tr>\n",
       "    <tr>\n",
       "      <th>457094</th>\n",
       "      <td>Nc1n[nH]cc1-c1cc(Cl)ccc1Oc1cc(F)c(cc1F)S(=O)(=...</td>\n",
       "      <td>MAMLPPPGPQSFVHFTKQSLALIEQRIAERKSKEPKEEKKDDDEEA...</td>\n",
       "      <td>no</td>\n",
       "      <td>56</td>\n",
       "      <td>1988</td>\n",
       "    </tr>\n",
       "    <tr>\n",
       "      <th>237879</th>\n",
       "      <td>COc1cc2c(NCC3CCN(CC3)c3ncc(cn3)C(=O)NO)cc(C)nc...</td>\n",
       "      <td>MAAAAGAAAAAAAEGEAPAEMGALLLEKETRGATERVHGSLGDTPR...</td>\n",
       "      <td>no</td>\n",
       "      <td>61</td>\n",
       "      <td>1210</td>\n",
       "    </tr>\n",
       "    <tr>\n",
       "      <th>520787</th>\n",
       "      <td>Oc1ccc(\\C=C(/C#N)C(=O)Nc2ccccc2Cl)cc1O</td>\n",
       "      <td>MELAALCRWGLLLALLPPGAASTQVCTGTDMKLRLPASPETHLDML...</td>\n",
       "      <td>yes</td>\n",
       "      <td>38</td>\n",
       "      <td>1255</td>\n",
       "    </tr>\n",
       "  </tbody>\n",
       "</table>\n",
       "<p>106790 rows × 5 columns</p>\n",
       "</div>"
      ],
      "text/plain": [
       "                                                   Ligand  \\\n",
       "418787  Fc1ccc(NS(=O)(=O)c2c(F)cc(NCc3c(F)cccc3CN3CCC3...   \n",
       "532514  [O-][N+](=O)c1cccc2C(=O)C(Nc3ccccc3)=C(NS(=O)(...   \n",
       "508257  ONC(=O)C1Cc2ccccc2CN1S(=O)(=O)c1ccc(OCc2ccc(F)...   \n",
       "165346  CN(CCO)c1ncc(cc1N1CCOCC1)-c1cc(NC(=O)c2cccc(c2...   \n",
       "231776  COc1cc(ccc1C(=O)N[C@H](CO)c1cccc(c1)C(=O)NC1CC...   \n",
       "...                                                   ...   \n",
       "186523  CNC(=O)c1cccc(CNC(=O)c2ccc-3c(c2)C(C)Oc2cnccc-...   \n",
       "517292   Oc1cc(CNC=C2C(=O)NC(=O)c3ccc(I)cc23)ccc1-c1ccoc1   \n",
       "457094  Nc1n[nH]cc1-c1cc(Cl)ccc1Oc1cc(F)c(cc1F)S(=O)(=...   \n",
       "237879  COc1cc2c(NCC3CCN(CC3)c3ncc(cn3)C(=O)NO)cc(C)nc...   \n",
       "520787             Oc1ccc(\\C=C(/C#N)C(=O)Nc2ccccc2Cl)cc1O   \n",
       "\n",
       "                                             Target_Chain IC50  Ligand_len  \\\n",
       "418787  MANFLLPRGTSSFRRFTRESLAAIEKRMAEKQARGSTTLQESREGL...  yes          55   \n",
       "532514  MDIEAYFERIGYQSTRSKLDLKTLTEILQHQIRAIPFENLNIHCGE...  yes          66   \n",
       "508257  MFSLKTLPFLLLLHVQISKAFPVSSKEKNTKTVQDYLEKFYQLPSN...   no          53   \n",
       "165346  MAALSGGGGGGAEPGQALFNGDMEPEAGAGAGAAASSAADPAIPEE...   no          61   \n",
       "231776  MSRPPPTGKMPGAPETAPGDGAGASRQRKLEALIRDPRSPINVESL...   no          61   \n",
       "...                                                   ...  ...         ...   \n",
       "186523  MSRPPPTGKMPGAPETAPGDGAGASRQRKLEALIRDPRSPINVESL...   no          51   \n",
       "517292  MGSNKSKPKDASQRRRSLEPAENVHGAGGGAFPASQTPSKPASADG...  yes          48   \n",
       "457094  MAMLPPPGPQSFVHFTKQSLALIEQRIAERKSKEPKEEKKDDDEEA...   no          56   \n",
       "237879  MAAAAGAAAAAAAEGEAPAEMGALLLEKETRGATERVHGSLGDTPR...   no          61   \n",
       "520787  MELAALCRWGLLLALLPPGAASTQVCTGTDMKLRLPASPETHLDML...  yes          38   \n",
       "\n",
       "        Target_Chain_len  \n",
       "418787              2016  \n",
       "532514               290  \n",
       "508257               467  \n",
       "165346               766  \n",
       "231776              1388  \n",
       "...                  ...  \n",
       "186523              1388  \n",
       "517292               536  \n",
       "457094              1988  \n",
       "237879              1210  \n",
       "520787              1255  \n",
       "\n",
       "[106790 rows x 5 columns]"
      ]
     },
     "execution_count": 53,
     "metadata": {},
     "output_type": "execute_result"
    }
   ],
   "source": [
    "data.sample(frac=0.2, weights=data.Target_Chain_len)"
   ]
  },
  {
   "cell_type": "code",
   "execution_count": 56,
   "id": "af42587c",
   "metadata": {},
   "outputs": [],
   "source": [
    "weight = 1 / data.groupby('Target_Chain_len')['Target_Chain_len'].transform('count')"
   ]
  },
  {
   "cell_type": "code",
   "execution_count": 63,
   "id": "7248d3d8",
   "metadata": {},
   "outputs": [
    {
     "data": {
      "text/plain": [
       "array([[<Axes: title={'center': 'Ligand_len'}>,\n",
       "        <Axes: title={'center': 'Target_Chain_len'}>]], dtype=object)"
      ]
     },
     "execution_count": 63,
     "metadata": {},
     "output_type": "execute_result"
    },
    {
     "data": {
      "image/png": "[encoded data removed]",
      "text/plain": [
       "<Figure size 640x480 with 2 Axes>"
      ]
     },
     "metadata": {},
     "output_type": "display_data"
    }
   ],
   "source": [
    "data.sample(frac=0.2).hist(bins=1000)"
   ]
  },
  {
   "cell_type": "code",
   "execution_count": 64,
   "id": "2fbf1486",
   "metadata": {},
   "outputs": [
    {
     "data": {
      "text/plain": [
       "array([[<Axes: title={'center': 'Ligand_len'}>,\n",
       "        <Axes: title={'center': 'Target_Chain_len'}>]], dtype=object)"
      ]
     },
     "execution_count": 64,
     "metadata": {},
     "output_type": "execute_result"
    },
    {
     "data": {
      "image/png": "[encoded data removed]",
      "text/plain": [
       "<Figure size 640x480 with 2 Axes>"
      ]
     },
     "metadata": {},
     "output_type": "display_data"
    }
   ],
   "source": [
    "data.hist(bins=1000)"
   ]
  },
  {
   "cell_type": "code",
   "execution_count": null,
   "id": "267a69ef",
   "metadata": {},
   "outputs": [],
   "source": [
    "train_data = data.sample(frac=0.7)\n",
    "test_val_data = data[train_data]"
   ]
  },
  {
   "cell_type": "code",
   "execution_count": 65,
   "id": "fbb23c6b",
   "metadata": {},
   "outputs": [],
   "source": [
    "import numpy as np"
   ]
  },
  {
   "cell_type": "code",
   "execution_count": 66,
   "id": "7fca7b56",
   "metadata": {},
   "outputs": [
    {
     "name": "stderr",
     "output_type": "stream",
     "text": [
      "/home/bombus/.local/lib/python3.12/site-packages/numpy/_core/fromnumeric.py:57: FutureWarning: 'DataFrame.swapaxes' is deprecated and will be removed in a future version. Please use 'DataFrame.transpose' instead.\n",
      "  return bound(*args, **kwds)\n"
     ]
    }
   ],
   "source": [
    "train, validate, test = \\\n",
    "              np.split(data.sample(frac=1, random_state=42), \n",
    "                       [int(.6*len(data)), int(.8*len(data))])"
   ]
  },
  {
   "cell_type": "code",
   "execution_count": 67,
   "id": "81c5a83d",
   "metadata": {},
   "outputs": [
    {
     "data": {
      "text/plain": [
       "320368"
      ]
     },
     "execution_count": 67,
     "metadata": {},
     "output_type": "execute_result"
    }
   ],
   "source": [
    "len(train)"
   ]
  },
  {
   "cell_type": "code",
   "execution_count": null,
   "id": "6dbb7366",
   "metadata": {},
   "outputs": [],
   "source": [
    "def train_validate_test_split(df, train_percent=.7, validate_percent=.2, seed=None):\n",
    "    perm = np.random.permutation(df.index)\n",
    "    m = len(df.index)\n",
    "    train_end = int(train_percent * m)\n",
    "    validate_end = int(validate_percent * m) + train_end\n",
    "    train = df.iloc[perm[:train_end]]\n",
    "    validate = df.iloc[perm[train_end:validate_end]]\n",
    "    test = df.iloc[perm[validate_end:]]\n",
    "    return train, validate, test"
   ]
  },
  {
   "cell_type": "code",
   "execution_count": 69,
   "id": "71e80394",
   "metadata": {},
   "outputs": [],
   "source": [
    "from torch.utils.data import DataLoader"
   ]
  },
  {
   "cell_type": "code",
   "execution_count": 73,
   "id": "eb0f0ec1",
   "metadata": {},
   "outputs": [
    {
     "data": {
      "text/html": [
       "<div>\n",
       "<style scoped>\n",
       "    .dataframe tbody tr th:only-of-type {\n",
       "        vertical-align: middle;\n",
       "    }\n",
       "\n",
       "    .dataframe tbody tr th {\n",
       "        vertical-align: top;\n",
       "    }\n",
       "\n",
       "    .dataframe thead th {\n",
       "        text-align: right;\n",
       "    }\n",
       "</style>\n",
       "<table border=\"1\" class=\"dataframe\">\n",
       "  <thead>\n",
       "    <tr style=\"text-align: right;\">\n",
       "      <th></th>\n",
       "      <th>Ligand</th>\n",
       "      <th>Target_Chain</th>\n",
       "      <th>IC50</th>\n",
       "      <th>Ligand_len</th>\n",
       "      <th>Target_Chain_len</th>\n",
       "    </tr>\n",
       "  </thead>\n",
       "  <tbody>\n",
       "    <tr>\n",
       "      <th>0</th>\n",
       "      <td>B.Oc1ccc(cc1)P(c1ccccc1)c1ccccc1</td>\n",
       "      <td>MTMTLHTKASGMALLHQIQGNELEPLNRPQLKIPLERPLGEVYLDS...</td>\n",
       "      <td>yes</td>\n",
       "      <td>32</td>\n",
       "      <td>595</td>\n",
       "    </tr>\n",
       "    <tr>\n",
       "      <th>1</th>\n",
       "      <td>BP(=O)(COCCn1cnc2c(N)ncnc12)OP(O)(=O)OP(O)(O)=O</td>\n",
       "      <td>PISPITVPVKLKPGMDGPKVKQWPLTEEKIKALTEICTEMEKEGKI...</td>\n",
       "      <td>yes</td>\n",
       "      <td>47</td>\n",
       "      <td>254</td>\n",
       "    </tr>\n",
       "    <tr>\n",
       "      <th>2</th>\n",
       "      <td>BP(=O)(CO[C@H](C)Cn1cnc2c(N)ncnc12)OP(O)(=O)OP...</td>\n",
       "      <td>PISPITVPVKLKPGMDGPKVKQWPLTEEKIKALTEICTEMEKEGKI...</td>\n",
       "      <td>yes</td>\n",
       "      <td>54</td>\n",
       "      <td>254</td>\n",
       "    </tr>\n",
       "    <tr>\n",
       "      <th>3</th>\n",
       "      <td>Bc1cc(Cl)ccc1COc1ccnn1-c1cc(ccn1)C(O)=O</td>\n",
       "      <td>MEAATTLHPGPRPALPLGGPGPLGEFLPPPECPVFEPSWEEFADPF...</td>\n",
       "      <td>no</td>\n",
       "      <td>39</td>\n",
       "      <td>1544</td>\n",
       "    </tr>\n",
       "    <tr>\n",
       "      <th>4</th>\n",
       "      <td>Bc1ccc(F)c2[C@@H](CCc12)Nc1ccc(nc1)[C@H]1C[C@@...</td>\n",
       "      <td>MDSLVVLVLCLSCLLLLSLWRQSSGRGKLPPGPTPLPVIGNILQIG...</td>\n",
       "      <td>yes</td>\n",
       "      <td>55</td>\n",
       "      <td>490</td>\n",
       "    </tr>\n",
       "    <tr>\n",
       "      <th>...</th>\n",
       "      <td>...</td>\n",
       "      <td>...</td>\n",
       "      <td>...</td>\n",
       "      <td>...</td>\n",
       "      <td>...</td>\n",
       "    </tr>\n",
       "    <tr>\n",
       "      <th>533943</th>\n",
       "      <td>c1sc(nc1-c1cccnc1)-c1cccnc1</td>\n",
       "      <td>MVSSQKLEKPIEMGSSEPLPIADGDRRRKKKRRGRATDSLPGKFED...</td>\n",
       "      <td>yes</td>\n",
       "      <td>27</td>\n",
       "      <td>465</td>\n",
       "    </tr>\n",
       "    <tr>\n",
       "      <th>533944</th>\n",
       "      <td>c1sc(nc1-c1cccnc1)-c1ccncc1</td>\n",
       "      <td>MVLEMLNPIHYNITSIVPEAMPAATMPVLLLTGLFLLVWNYEGTSS...</td>\n",
       "      <td>no</td>\n",
       "      <td>27</td>\n",
       "      <td>503</td>\n",
       "    </tr>\n",
       "    <tr>\n",
       "      <th>533945</th>\n",
       "      <td>c1sc(nc1-c1cnc(nc1)-c1ccccc1)-c1ccccc1</td>\n",
       "      <td>MPNYKLTYFNMRGRAEIIRYIFAYLDIQYEDHRIEQADWPEIKSTL...</td>\n",
       "      <td>yes</td>\n",
       "      <td>38</td>\n",
       "      <td>199</td>\n",
       "    </tr>\n",
       "    <tr>\n",
       "      <th>533946</th>\n",
       "      <td>c1sc2ncn3cnnc3c2c1-c1ccccc1</td>\n",
       "      <td>MGNAAAAKKGSEQESVKEFLAKAKEDFLKKWESPAQNTAHLDQFER...</td>\n",
       "      <td>yes</td>\n",
       "      <td>27</td>\n",
       "      <td>351</td>\n",
       "    </tr>\n",
       "    <tr>\n",
       "      <th>533947</th>\n",
       "      <td>c1scc2c1ncc1cnccc21</td>\n",
       "      <td>MSGLGDSSSDPANPDSHKRKGSPCDTLASSTEKRRREQENKYLEEL...</td>\n",
       "      <td>yes</td>\n",
       "      <td>19</td>\n",
       "      <td>1441</td>\n",
       "    </tr>\n",
       "  </tbody>\n",
       "</table>\n",
       "<p>533948 rows × 5 columns</p>\n",
       "</div>"
      ],
      "text/plain": [
       "                                                   Ligand  \\\n",
       "0                        B.Oc1ccc(cc1)P(c1ccccc1)c1ccccc1   \n",
       "1         BP(=O)(COCCn1cnc2c(N)ncnc12)OP(O)(=O)OP(O)(O)=O   \n",
       "2       BP(=O)(CO[C@H](C)Cn1cnc2c(N)ncnc12)OP(O)(=O)OP...   \n",
       "3                 Bc1cc(Cl)ccc1COc1ccnn1-c1cc(ccn1)C(O)=O   \n",
       "4       Bc1ccc(F)c2[C@@H](CCc12)Nc1ccc(nc1)[C@H]1C[C@@...   \n",
       "...                                                   ...   \n",
       "533943                        c1sc(nc1-c1cccnc1)-c1cccnc1   \n",
       "533944                        c1sc(nc1-c1cccnc1)-c1ccncc1   \n",
       "533945             c1sc(nc1-c1cnc(nc1)-c1ccccc1)-c1ccccc1   \n",
       "533946                        c1sc2ncn3cnnc3c2c1-c1ccccc1   \n",
       "533947                                c1scc2c1ncc1cnccc21   \n",
       "\n",
       "                                             Target_Chain IC50  Ligand_len  \\\n",
       "0       MTMTLHTKASGMALLHQIQGNELEPLNRPQLKIPLERPLGEVYLDS...  yes          32   \n",
       "1       PISPITVPVKLKPGMDGPKVKQWPLTEEKIKALTEICTEMEKEGKI...  yes          47   \n",
       "2       PISPITVPVKLKPGMDGPKVKQWPLTEEKIKALTEICTEMEKEGKI...  yes          54   \n",
       "3       MEAATTLHPGPRPALPLGGPGPLGEFLPPPECPVFEPSWEEFADPF...   no          39   \n",
       "4       MDSLVVLVLCLSCLLLLSLWRQSSGRGKLPPGPTPLPVIGNILQIG...  yes          55   \n",
       "...                                                   ...  ...         ...   \n",
       "533943  MVSSQKLEKPIEMGSSEPLPIADGDRRRKKKRRGRATDSLPGKFED...  yes          27   \n",
       "533944  MVLEMLNPIHYNITSIVPEAMPAATMPVLLLTGLFLLVWNYEGTSS...   no          27   \n",
       "533945  MPNYKLTYFNMRGRAEIIRYIFAYLDIQYEDHRIEQADWPEIKSTL...  yes          38   \n",
       "533946  MGNAAAAKKGSEQESVKEFLAKAKEDFLKKWESPAQNTAHLDQFER...  yes          27   \n",
       "533947  MSGLGDSSSDPANPDSHKRKGSPCDTLASSTEKRRREQENKYLEEL...  yes          19   \n",
       "\n",
       "        Target_Chain_len  \n",
       "0                    595  \n",
       "1                    254  \n",
       "2                    254  \n",
       "3                   1544  \n",
       "4                    490  \n",
       "...                  ...  \n",
       "533943               465  \n",
       "533944               503  \n",
       "533945               199  \n",
       "533946               351  \n",
       "533947              1441  \n",
       "\n",
       "[533948 rows x 5 columns]"
      ]
     },
     "execution_count": 73,
     "metadata": {},
     "output_type": "execute_result"
    }
   ],
   "source": [
    "data"
   ]
  },
  {
   "cell_type": "code",
   "execution_count": 76,
   "id": "e3b109b3",
   "metadata": {},
   "outputs": [],
   "source": [
    "dl = DataLoader((np.array(data[\"Ligand\"]), np.array(data[\"Target_Chain\"]), np.array(data[\"IC50\"])), batch_size=2, shuffle=True)"
   ]
  },
  {
   "cell_type": "code",
   "execution_count": 77,
   "id": "384abf55",
   "metadata": {},
   "outputs": [
    {
     "ename": "TypeError",
     "evalue": "default_collate: batch must contain tensors, numpy arrays, numbers, dicts or lists; found object",
     "output_type": "error",
     "traceback": [
      "\u001b[0;31m---------------------------------------------------------------------------\u001b[0m",
      "\u001b[0;31mTypeError\u001b[0m                                 Traceback (most recent call last)",
      "Cell \u001b[0;32mIn[77], line 1\u001b[0m\n\u001b[0;32m----> 1\u001b[0m \u001b[38;5;28;43mnext\u001b[39;49m\u001b[43m(\u001b[49m\u001b[38;5;28;43miter\u001b[39;49m\u001b[43m(\u001b[49m\u001b[43mdl\u001b[49m\u001b[43m)\u001b[49m\u001b[43m)\u001b[49m\n",
      "File \u001b[0;32m~/.local/lib/python3.12/site-packages/torch/utils/data/dataloader.py:733\u001b[0m, in \u001b[0;36m_BaseDataLoaderIter.__next__\u001b[0;34m(self)\u001b[0m\n\u001b[1;32m    730\u001b[0m \u001b[38;5;28;01mif\u001b[39;00m \u001b[38;5;28mself\u001b[39m\u001b[38;5;241m.\u001b[39m_sampler_iter \u001b[38;5;129;01mis\u001b[39;00m \u001b[38;5;28;01mNone\u001b[39;00m:\n\u001b[1;32m    731\u001b[0m     \u001b[38;5;66;03m# TODO(https://github.com/pytorch/pytorch/issues/76750)\u001b[39;00m\n\u001b[1;32m    732\u001b[0m     \u001b[38;5;28mself\u001b[39m\u001b[38;5;241m.\u001b[39m_reset()  \u001b[38;5;66;03m# type: ignore[call-arg]\u001b[39;00m\n\u001b[0;32m--> 733\u001b[0m data \u001b[38;5;241m=\u001b[39m \u001b[38;5;28;43mself\u001b[39;49m\u001b[38;5;241;43m.\u001b[39;49m\u001b[43m_next_data\u001b[49m\u001b[43m(\u001b[49m\u001b[43m)\u001b[49m\n\u001b[1;32m    734\u001b[0m \u001b[38;5;28mself\u001b[39m\u001b[38;5;241m.\u001b[39m_num_yielded \u001b[38;5;241m+\u001b[39m\u001b[38;5;241m=\u001b[39m \u001b[38;5;241m1\u001b[39m\n\u001b[1;32m    735\u001b[0m \u001b[38;5;28;01mif\u001b[39;00m (\n\u001b[1;32m    736\u001b[0m     \u001b[38;5;28mself\u001b[39m\u001b[38;5;241m.\u001b[39m_dataset_kind \u001b[38;5;241m==\u001b[39m _DatasetKind\u001b[38;5;241m.\u001b[39mIterable\n\u001b[1;32m    737\u001b[0m     \u001b[38;5;129;01mand\u001b[39;00m \u001b[38;5;28mself\u001b[39m\u001b[38;5;241m.\u001b[39m_IterableDataset_len_called \u001b[38;5;129;01mis\u001b[39;00m \u001b[38;5;129;01mnot\u001b[39;00m \u001b[38;5;28;01mNone\u001b[39;00m\n\u001b[1;32m    738\u001b[0m     \u001b[38;5;129;01mand\u001b[39;00m \u001b[38;5;28mself\u001b[39m\u001b[38;5;241m.\u001b[39m_num_yielded \u001b[38;5;241m>\u001b[39m \u001b[38;5;28mself\u001b[39m\u001b[38;5;241m.\u001b[39m_IterableDataset_len_called\n\u001b[1;32m    739\u001b[0m ):\n",
      "File \u001b[0;32m~/.local/lib/python3.12/site-packages/torch/utils/data/dataloader.py:789\u001b[0m, in \u001b[0;36m_SingleProcessDataLoaderIter._next_data\u001b[0;34m(self)\u001b[0m\n\u001b[1;32m    787\u001b[0m \u001b[38;5;28;01mdef\u001b[39;00m \u001b[38;5;21m_next_data\u001b[39m(\u001b[38;5;28mself\u001b[39m):\n\u001b[1;32m    788\u001b[0m     index \u001b[38;5;241m=\u001b[39m \u001b[38;5;28mself\u001b[39m\u001b[38;5;241m.\u001b[39m_next_index()  \u001b[38;5;66;03m# may raise StopIteration\u001b[39;00m\n\u001b[0;32m--> 789\u001b[0m     data \u001b[38;5;241m=\u001b[39m \u001b[38;5;28;43mself\u001b[39;49m\u001b[38;5;241;43m.\u001b[39;49m\u001b[43m_dataset_fetcher\u001b[49m\u001b[38;5;241;43m.\u001b[39;49m\u001b[43mfetch\u001b[49m\u001b[43m(\u001b[49m\u001b[43mindex\u001b[49m\u001b[43m)\u001b[49m  \u001b[38;5;66;03m# may raise StopIteration\u001b[39;00m\n\u001b[1;32m    790\u001b[0m     \u001b[38;5;28;01mif\u001b[39;00m \u001b[38;5;28mself\u001b[39m\u001b[38;5;241m.\u001b[39m_pin_memory:\n\u001b[1;32m    791\u001b[0m         data \u001b[38;5;241m=\u001b[39m _utils\u001b[38;5;241m.\u001b[39mpin_memory\u001b[38;5;241m.\u001b[39mpin_memory(data, \u001b[38;5;28mself\u001b[39m\u001b[38;5;241m.\u001b[39m_pin_memory_device)\n",
      "File \u001b[0;32m~/.local/lib/python3.12/site-packages/torch/utils/data/_utils/fetch.py:55\u001b[0m, in \u001b[0;36m_MapDatasetFetcher.fetch\u001b[0;34m(self, possibly_batched_index)\u001b[0m\n\u001b[1;32m     53\u001b[0m \u001b[38;5;28;01melse\u001b[39;00m:\n\u001b[1;32m     54\u001b[0m     data \u001b[38;5;241m=\u001b[39m \u001b[38;5;28mself\u001b[39m\u001b[38;5;241m.\u001b[39mdataset[possibly_batched_index]\n\u001b[0;32m---> 55\u001b[0m \u001b[38;5;28;01mreturn\u001b[39;00m \u001b[38;5;28;43mself\u001b[39;49m\u001b[38;5;241;43m.\u001b[39;49m\u001b[43mcollate_fn\u001b[49m\u001b[43m(\u001b[49m\u001b[43mdata\u001b[49m\u001b[43m)\u001b[49m\n",
      "File \u001b[0;32m~/.local/lib/python3.12/site-packages/torch/utils/data/_utils/collate.py:398\u001b[0m, in \u001b[0;36mdefault_collate\u001b[0;34m(batch)\u001b[0m\n\u001b[1;32m    337\u001b[0m \u001b[38;5;28;01mdef\u001b[39;00m \u001b[38;5;21mdefault_collate\u001b[39m(batch):\n\u001b[1;32m    338\u001b[0m \u001b[38;5;250m    \u001b[39m\u001b[38;5;124mr\u001b[39m\u001b[38;5;124;03m\"\"\"\u001b[39;00m\n\u001b[1;32m    339\u001b[0m \u001b[38;5;124;03m    Take in a batch of data and put the elements within the batch into a tensor with an additional outer dimension - batch size.\u001b[39;00m\n\u001b[1;32m    340\u001b[0m \n\u001b[0;32m   (...)\u001b[0m\n\u001b[1;32m    396\u001b[0m \u001b[38;5;124;03m        >>> default_collate(batch)  # Handle `CustomType` automatically\u001b[39;00m\n\u001b[1;32m    397\u001b[0m \u001b[38;5;124;03m    \"\"\"\u001b[39;00m\n\u001b[0;32m--> 398\u001b[0m     \u001b[38;5;28;01mreturn\u001b[39;00m \u001b[43mcollate\u001b[49m\u001b[43m(\u001b[49m\u001b[43mbatch\u001b[49m\u001b[43m,\u001b[49m\u001b[43m \u001b[49m\u001b[43mcollate_fn_map\u001b[49m\u001b[38;5;241;43m=\u001b[39;49m\u001b[43mdefault_collate_fn_map\u001b[49m\u001b[43m)\u001b[49m\n",
      "File \u001b[0;32m~/.local/lib/python3.12/site-packages/torch/utils/data/_utils/collate.py:155\u001b[0m, in \u001b[0;36mcollate\u001b[0;34m(batch, collate_fn_map)\u001b[0m\n\u001b[1;32m    153\u001b[0m \u001b[38;5;28;01mif\u001b[39;00m collate_fn_map \u001b[38;5;129;01mis\u001b[39;00m \u001b[38;5;129;01mnot\u001b[39;00m \u001b[38;5;28;01mNone\u001b[39;00m:\n\u001b[1;32m    154\u001b[0m     \u001b[38;5;28;01mif\u001b[39;00m elem_type \u001b[38;5;129;01min\u001b[39;00m collate_fn_map:\n\u001b[0;32m--> 155\u001b[0m         \u001b[38;5;28;01mreturn\u001b[39;00m \u001b[43mcollate_fn_map\u001b[49m\u001b[43m[\u001b[49m\u001b[43melem_type\u001b[49m\u001b[43m]\u001b[49m\u001b[43m(\u001b[49m\u001b[43mbatch\u001b[49m\u001b[43m,\u001b[49m\u001b[43m \u001b[49m\u001b[43mcollate_fn_map\u001b[49m\u001b[38;5;241;43m=\u001b[39;49m\u001b[43mcollate_fn_map\u001b[49m\u001b[43m)\u001b[49m\n\u001b[1;32m    157\u001b[0m     \u001b[38;5;28;01mfor\u001b[39;00m collate_type \u001b[38;5;129;01min\u001b[39;00m collate_fn_map:\n\u001b[1;32m    158\u001b[0m         \u001b[38;5;28;01mif\u001b[39;00m \u001b[38;5;28misinstance\u001b[39m(elem, collate_type):\n",
      "File \u001b[0;32m~/.local/lib/python3.12/site-packages/torch/utils/data/_utils/collate.py:283\u001b[0m, in \u001b[0;36mcollate_numpy_array_fn\u001b[0;34m(batch, collate_fn_map)\u001b[0m\n\u001b[1;32m    281\u001b[0m \u001b[38;5;66;03m# array of string classes and object\u001b[39;00m\n\u001b[1;32m    282\u001b[0m \u001b[38;5;28;01mif\u001b[39;00m np_str_obj_array_pattern\u001b[38;5;241m.\u001b[39msearch(elem\u001b[38;5;241m.\u001b[39mdtype\u001b[38;5;241m.\u001b[39mstr) \u001b[38;5;129;01mis\u001b[39;00m \u001b[38;5;129;01mnot\u001b[39;00m \u001b[38;5;28;01mNone\u001b[39;00m:\n\u001b[0;32m--> 283\u001b[0m     \u001b[38;5;28;01mraise\u001b[39;00m \u001b[38;5;167;01mTypeError\u001b[39;00m(default_collate_err_msg_format\u001b[38;5;241m.\u001b[39mformat(elem\u001b[38;5;241m.\u001b[39mdtype))\n\u001b[1;32m    285\u001b[0m \u001b[38;5;28;01mreturn\u001b[39;00m collate([torch\u001b[38;5;241m.\u001b[39mas_tensor(b) \u001b[38;5;28;01mfor\u001b[39;00m b \u001b[38;5;129;01min\u001b[39;00m batch], collate_fn_map\u001b[38;5;241m=\u001b[39mcollate_fn_map)\n",
      "\u001b[0;31mTypeError\u001b[0m: default_collate: batch must contain tensors, numpy arrays, numbers, dicts or lists; found object"
     ]
    }
   ],
   "source": [
    "next(iter(dl))"
   ]
  },
  {
   "cell_type": "code",
   "execution_count": 85,
   "id": "5f7b219b",
   "metadata": {},
   "outputs": [],
   "source": [
    "a = DataLoader([[1,0],[2,0],[3,0],[4,0],[5,0]], batch_size=2)"
   ]
  },
  {
   "cell_type": "code",
   "execution_count": 86,
   "id": "a1f5319c",
   "metadata": {},
   "outputs": [
    {
     "data": {
      "text/plain": [
       "[tensor([1, 2]), tensor([0, 0])]"
      ]
     },
     "execution_count": 86,
     "metadata": {},
     "output_type": "execute_result"
    }
   ],
   "source": [
    "next(iter(a))"
   ]
  },
  {
   "cell_type": "code",
   "execution_count": null,
   "id": "41895971",
   "metadata": {},
   "outputs": [
    {
     "data": {
      "text/plain": [
       "array(['B.Oc1ccc(cc1)P(c1ccccc1)c1ccccc1',\n",
       "       'BP(=O)(COCCn1cnc2c(N)ncnc12)OP(O)(=O)OP(O)(O)=O',\n",
       "       'BP(=O)(CO[C@H](C)Cn1cnc2c(N)ncnc12)OP(O)(=O)OP(O)(O)=O', ...,\n",
       "       'c1sc(nc1-c1cnc(nc1)-c1ccccc1)-c1ccccc1',\n",
       "       'c1sc2ncn3cnnc3c2c1-c1ccccc1', 'c1scc2c1ncc1cnccc21'], dtype=object)"
      ]
     },
     "execution_count": 87,
     "metadata": {},
     "output_type": "execute_result"
    }
   ],
   "source": [
    "torch."
   ]
  },
  {
   "cell_type": "code",
   "execution_count": 90,
   "id": "0b0e9078",
   "metadata": {},
   "outputs": [],
   "source": [
    "data[\"ligand_enc\"] = data[\"Ligand\"].apply(lambda x: encoder.encode(x))\n",
    "data[\"IC50_encode\"] = data[\"IC50\"].apply(lambda x: 1 if x == \"yes\" else 0)"
   ]
  },
  {
   "cell_type": "code",
   "execution_count": 92,
   "id": "f5b4e7d3",
   "metadata": {},
   "outputs": [],
   "source": [
    "dl = DataLoader((data[\"ligand_enc\"], data[\"IC50_encode\"], data[\"IC50_encode\"]))"
   ]
  },
  {
   "cell_type": "code",
   "execution_count": 101,
   "id": "992ac4f3",
   "metadata": {},
   "outputs": [],
   "source": [
    "train = []\n",
    "for f_seq, s_seq, score in zip(data[\"ligand_enc\"], data[\"ligand_enc\"], data[\"IC50_encode\"]):\n",
    "    train.append((torch.IntTensor(f_seq), torch.IntTensor(s_seq), int(score)))"
   ]
  },
  {
   "cell_type": "code",
   "execution_count": 100,
   "id": "22ad8fea",
   "metadata": {},
   "outputs": [],
   "source": [
    "from torch.nn.utils.rnn import pack_sequence"
   ]
  },
  {
   "cell_type": "code",
   "execution_count": 117,
   "id": "5f024700",
   "metadata": {},
   "outputs": [],
   "source": [
    "def my_collate(batch):\n",
    "    # batch contains a list of tuples of structure (sequence, target)\n",
    "    f_seq = [item[0] for item in batch]\n",
    "    f_seq = torch.nn.utils.rnn.pad_sequence(f_seq, batch_first=True)\n",
    "\n",
    "    s_seq = [item[1] for item in batch]\n",
    "    s_seq = torch.nn.utils.rnn.pad_sequence(s_seq, batch_first=True)\n",
    "\n",
    "    score = [item[2] for item in batch]\n",
    "    return [f_seq, s_seq, score]"
   ]
  },
  {
   "cell_type": "code",
   "execution_count": 118,
   "id": "f4c7e762",
   "metadata": {},
   "outputs": [],
   "source": [
    "dl = DataLoader(train, batch_size=2, collate_fn=my_collate)"
   ]
  },
  {
   "cell_type": "code",
   "execution_count": 124,
   "id": "758e3c55",
   "metadata": {},
   "outputs": [
    {
     "name": "stdout",
     "output_type": "stream",
     "text": [
      "39.1 μs ± 1.61 μs per loop (mean ± std. dev. of 7 runs, 10,000 loops each)\n"
     ]
    }
   ],
   "source": [
    "%%timeit\n",
    "f, s, score = next(iter(dl))"
   ]
  },
  {
   "cell_type": "code",
   "execution_count": 120,
   "id": "59d01199",
   "metadata": {},
   "outputs": [
    {
     "data": {
      "text/plain": [
       "torch.Size([2, 33])"
      ]
     },
     "execution_count": 120,
     "metadata": {},
     "output_type": "execute_result"
    }
   ],
   "source": [
    "f.size()"
   ]
  },
  {
   "cell_type": "code",
   "execution_count": 121,
   "id": "f78cb61f",
   "metadata": {},
   "outputs": [
    {
     "data": {
      "text/plain": [
       "torch.Size([2, 33])"
      ]
     },
     "execution_count": 121,
     "metadata": {},
     "output_type": "execute_result"
    }
   ],
   "source": [
    "s.size()"
   ]
  },
  {
   "cell_type": "code",
   "execution_count": null,
   "id": "54363df3",
   "metadata": {},
   "outputs": [
    {
     "data": {
      "text/plain": [
       "[1, 1]"
      ]
     },
     "execution_count": 123,
     "metadata": {},
     "output_type": "execute_result"
    }
   ],
   "source": []
  },
  {
   "cell_type": "code",
   "execution_count": 125,
   "id": "bea58a61",
   "metadata": {},
   "outputs": [
    {
     "data": {
      "text/plain": [
       "tensor([[ 83,  96, 100,  19,  73,   6,  71,   3,   7,  99,  71,  69,  73,  14,\n",
       "           7,  69,  73,  14,  73,   0,   0,   0,   0,   0,   0,   0,   0,   0,\n",
       "           0,   0,   0,   0,   0],\n",
       "        [ 83,  96,  99,   5,  74,  21,  70,  38,  78,  73,  40,  75,  69,  71,\n",
       "          76,  72,  58,  39,  74,  99,  71,  74,  31,  74,  72,  74,  99,  71,\n",
       "          74,  21,  74,  20,  74]], dtype=torch.int32)"
      ]
     },
     "execution_count": 125,
     "metadata": {},
     "output_type": "execute_result"
    }
   ],
   "source": [
    "f"
   ]
  },
  {
   "cell_type": "code",
   "execution_count": 129,
   "id": "f4857608",
   "metadata": {},
   "outputs": [
    {
     "data": {
      "text/plain": [
       "torch.Size([1, 2])"
      ]
     },
     "execution_count": 129,
     "metadata": {},
     "output_type": "execute_result"
    }
   ],
   "source": [
    "torch.IntTensor([1,2]).unsqueeze(0).size()"
   ]
  },
  {
   "cell_type": "code",
   "execution_count": 132,
   "id": "c73ae8b2",
   "metadata": {},
   "outputs": [
    {
     "data": {
      "text/plain": [
       "torch.Size([6, 1])"
      ]
     },
     "execution_count": 132,
     "metadata": {},
     "output_type": "execute_result"
    }
   ],
   "source": [
    "torch.IntTensor([1,2,3,4,5,6]).unsqueeze(1).size()"
   ]
  },
  {
   "cell_type": "code",
   "execution_count": null,
   "id": "458afbdb",
   "metadata": {},
   "outputs": [],
   "source": []
  }
 ],
 "metadata": {
  "kernelspec": {
   "display_name": "Python 3",
   "language": "python",
   "name": "python3"
  },
  "language_info": {
   "codemirror_mode": {
    "name": "ipython",
    "version": 3
   },
   "file_extension": ".py",
   "mimetype": "text/x-python",
   "name": "python",
   "nbconvert_exporter": "python",
   "pygments_lexer": "ipython3",
   "version": "3.12.10"
  }
 },
 "nbformat": 4,
 "nbformat_minor": 5
}
